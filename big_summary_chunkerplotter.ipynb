{
 "cells": [
  {
   "cell_type": "code",
   "execution_count": 1,
   "source": [
    "import pandas as pd\n",
    "import seaborn as sns\n",
    "import numpy as np\n",
    "import matplotlib.pyplot as plt\n",
    "import scipy\n",
    "from matplotlib.patches import Rectangle\n",
    "from flydance.io.smart_loader import FlyData\n",
    "from flydance.vr.neuser import NeuserParams\n",
    "from flydance.vr.neuser import FollowBarWatch\n",
    "import sys\n",
    "import os\n",
    "sys.path.append(\"/Users/ambra-stella/flydance/experiments\")"
   ],
   "outputs": [],
   "metadata": {}
  },
  {
   "cell_type": "markdown",
   "source": [],
   "metadata": {}
  },
  {
   "cell_type": "code",
   "execution_count": 3,
   "source": [
    "fname = \"/Users/ambra-stella/bachelor/analysis/wt/big_summary_positive_until_distractor.csv\" # SPECIFY WHAT DISTRACTOR LIST\n",
    "df1 = pd.read_csv(fname)"
   ],
   "outputs": [],
   "metadata": {}
  },
  {
   "cell_type": "code",
   "execution_count": 4,
   "source": [
    "fname = \"/Users/ambra-stella/bachelor/analysis/TNTin/big_summary_negative.csv\" # SPECIFY WHAT DISTRACTOR LIST\n",
    "df2 = pd.read_csv(fname)"
   ],
   "outputs": [],
   "metadata": {}
  },
  {
   "cell_type": "code",
   "execution_count": 5,
   "source": [
    "fname = \"/Users/ambra-stella/bachelor/analysis/TNTin/big_summary_positive_until_distractor.csv\" # SPECIFY WHAT DISTRACTOR LIST\n",
    "df3 = pd.read_csv(fname)"
   ],
   "outputs": [],
   "metadata": {}
  },
  {
   "cell_type": "code",
   "execution_count": 6,
   "source": [
    "fname = \"/Users/ambra-stella/bachelor/analysis/TNTe/big_summary_negative.csv\" # SPECIFY WHAT DISTRACTOR LIST\n",
    "df4 = pd.read_csv(fname)"
   ],
   "outputs": [],
   "metadata": {}
  },
  {
   "cell_type": "code",
   "execution_count": 7,
   "source": [
    "fname = \"/Users/ambra-stella/bachelor/analysis/TNTe/big_summary_positive_until_distractor.csv\" # SPECIFY WHAT DISTRACTOR LIST\n",
    "df5 = pd.read_csv(fname)"
   ],
   "outputs": [
    {
     "output_type": "stream",
     "name": "stderr",
     "text": [
      "/Users/ambra-stella/opt/anaconda3/envs/flyvenv/lib/python3.7/site-packages/IPython/core/interactiveshell.py:3166: DtypeWarning: Columns (14,15) have mixed types.Specify dtype option on import or set low_memory=False.\n",
      "  interactivity=interactivity, compiler=compiler, result=result)\n"
     ]
    }
   ],
   "metadata": {}
  },
  {
   "cell_type": "markdown",
   "source": [
    "# load file:"
   ],
   "metadata": {}
  },
  {
   "cell_type": "code",
   "execution_count": 8,
   "source": [
    "#wt, TNTin, TNTe\n",
    "#big_summary_negative \n",
    "#big_summary_positive\n",
    "#big_summary_positive_until_distractor\n",
    "\n",
    "fname = \"/Users/ambra-stella/bachelor/analysis/wt/big_summary_negative.csv\" # SPECIFY WHAT DISTRACTOR LIST\n",
    "df0 = pd.read_csv(fname)\n"
   ],
   "outputs": [],
   "metadata": {}
  },
  {
   "cell_type": "code",
   "execution_count": 71,
   "source": [
    "use_df = df2"
   ],
   "outputs": [],
   "metadata": {}
  },
  {
   "cell_type": "code",
   "execution_count": 72,
   "source": [
    "\n",
    "use_df = use_df.drop_duplicates()\n",
    "use_df = use_df.reset_index(drop=True)\n",
    "use_df"
   ],
   "outputs": [
    {
     "output_type": "execute_result",
     "data": {
      "text/plain": [
       "         frame     timestamp         x         y      xvel      yvel  \\\n",
       "0       100487  1.623928e+09 -0.084591 -0.009391  0.012288 -0.006424   \n",
       "1       100488  1.623928e+09 -0.084220 -0.009559  0.011418 -0.004951   \n",
       "2       100498  1.623928e+09 -0.084146 -0.010761 -0.002407 -0.035360   \n",
       "3       100499  1.623928e+09 -0.084740 -0.012162 -0.022771 -0.046027   \n",
       "4       100500  1.623928e+09 -0.085856 -0.013413 -0.038097 -0.037359   \n",
       "...        ...           ...       ...       ...       ...       ...   \n",
       "316444  207003  1.625581e+09  0.006119  0.007782 -0.001218 -0.013183   \n",
       "316445  207004  1.625581e+09  0.006064  0.007330 -0.001788 -0.013662   \n",
       "316446  207005  1.625581e+09  0.005964  0.006815 -0.003321 -0.015899   \n",
       "316447  207024  1.625581e+09  0.005127  0.006056 -0.008902 -0.007767   \n",
       "316448  207027  1.625581e+09  0.004394  0.005538 -0.009081 -0.005493   \n",
       "\n",
       "                  t   x_px   y_px  orientation_radians_mod_pi  contrast  \\\n",
       "0         30.133153  206.9  463.9                      -0.725       2.0   \n",
       "1         30.166629  208.8  463.1                      -0.683       2.0   \n",
       "2         30.499872  209.2  456.9                       1.562       2.0   \n",
       "3         30.533235  206.1  449.7                       1.234       2.0   \n",
       "4         30.566507  200.4  443.3                       1.014       2.0   \n",
       "...             ...    ...    ...                         ...       ...   \n",
       "316444  1017.096552  671.3  551.8                       1.435       2.0   \n",
       "316445  1017.129889  671.0  549.5                       1.448       2.0   \n",
       "316446  1017.163245  670.5  546.9                       1.452       2.0   \n",
       "316447  1017.796563  666.3  543.0                       0.859       2.0   \n",
       "316448  1017.896513  662.5  540.4                       0.753       2.0   \n",
       "\n",
       "        luminance  center_x  center_y       fly_number  walking_angle  \\\n",
       "0             0.0  0.422213  0.327022  20210617_130836      -0.481725   \n",
       "1             0.0  0.422205  0.327052  20210617_130836      -0.409100   \n",
       "2             0.0  0.421692  0.329600  20210617_130836      -1.638763   \n",
       "3             0.0  0.421130  0.329882  20210617_130836      -2.030217   \n",
       "4             0.0  0.418559  0.330050  20210617_130836      -2.365973   \n",
       "...           ...       ...       ...              ...            ...   \n",
       "316444        0.0  0.535632  0.514181  20210706_160203      -1.662953   \n",
       "316445        0.0  0.535632  0.514181  20210706_160203      -1.700951   \n",
       "316446        0.0  0.535632  0.514181  20210706_160203      -1.776727   \n",
       "316447        0.0  0.535632  0.514181  20210706_160203      -2.424194   \n",
       "316448        0.0  0.535632  0.514181  20210706_160203      -2.597626   \n",
       "\n",
       "           speed  \n",
       "0       0.013866  \n",
       "1       0.012445  \n",
       "2       0.035442  \n",
       "3       0.051351  \n",
       "4       0.053358  \n",
       "...          ...  \n",
       "316444  0.013239  \n",
       "316445  0.013778  \n",
       "316446  0.016243  \n",
       "316447  0.011814  \n",
       "316448  0.010613  \n",
       "\n",
       "[316449 rows x 17 columns]"
      ],
      "text/html": [
       "<div>\n",
       "<style scoped>\n",
       "    .dataframe tbody tr th:only-of-type {\n",
       "        vertical-align: middle;\n",
       "    }\n",
       "\n",
       "    .dataframe tbody tr th {\n",
       "        vertical-align: top;\n",
       "    }\n",
       "\n",
       "    .dataframe thead th {\n",
       "        text-align: right;\n",
       "    }\n",
       "</style>\n",
       "<table border=\"1\" class=\"dataframe\">\n",
       "  <thead>\n",
       "    <tr style=\"text-align: right;\">\n",
       "      <th></th>\n",
       "      <th>frame</th>\n",
       "      <th>timestamp</th>\n",
       "      <th>x</th>\n",
       "      <th>y</th>\n",
       "      <th>xvel</th>\n",
       "      <th>yvel</th>\n",
       "      <th>t</th>\n",
       "      <th>x_px</th>\n",
       "      <th>y_px</th>\n",
       "      <th>orientation_radians_mod_pi</th>\n",
       "      <th>contrast</th>\n",
       "      <th>luminance</th>\n",
       "      <th>center_x</th>\n",
       "      <th>center_y</th>\n",
       "      <th>fly_number</th>\n",
       "      <th>walking_angle</th>\n",
       "      <th>speed</th>\n",
       "    </tr>\n",
       "  </thead>\n",
       "  <tbody>\n",
       "    <tr>\n",
       "      <th>0</th>\n",
       "      <td>100487</td>\n",
       "      <td>1.623928e+09</td>\n",
       "      <td>-0.084591</td>\n",
       "      <td>-0.009391</td>\n",
       "      <td>0.012288</td>\n",
       "      <td>-0.006424</td>\n",
       "      <td>30.133153</td>\n",
       "      <td>206.9</td>\n",
       "      <td>463.9</td>\n",
       "      <td>-0.725</td>\n",
       "      <td>2.0</td>\n",
       "      <td>0.0</td>\n",
       "      <td>0.422213</td>\n",
       "      <td>0.327022</td>\n",
       "      <td>20210617_130836</td>\n",
       "      <td>-0.481725</td>\n",
       "      <td>0.013866</td>\n",
       "    </tr>\n",
       "    <tr>\n",
       "      <th>1</th>\n",
       "      <td>100488</td>\n",
       "      <td>1.623928e+09</td>\n",
       "      <td>-0.084220</td>\n",
       "      <td>-0.009559</td>\n",
       "      <td>0.011418</td>\n",
       "      <td>-0.004951</td>\n",
       "      <td>30.166629</td>\n",
       "      <td>208.8</td>\n",
       "      <td>463.1</td>\n",
       "      <td>-0.683</td>\n",
       "      <td>2.0</td>\n",
       "      <td>0.0</td>\n",
       "      <td>0.422205</td>\n",
       "      <td>0.327052</td>\n",
       "      <td>20210617_130836</td>\n",
       "      <td>-0.409100</td>\n",
       "      <td>0.012445</td>\n",
       "    </tr>\n",
       "    <tr>\n",
       "      <th>2</th>\n",
       "      <td>100498</td>\n",
       "      <td>1.623928e+09</td>\n",
       "      <td>-0.084146</td>\n",
       "      <td>-0.010761</td>\n",
       "      <td>-0.002407</td>\n",
       "      <td>-0.035360</td>\n",
       "      <td>30.499872</td>\n",
       "      <td>209.2</td>\n",
       "      <td>456.9</td>\n",
       "      <td>1.562</td>\n",
       "      <td>2.0</td>\n",
       "      <td>0.0</td>\n",
       "      <td>0.421692</td>\n",
       "      <td>0.329600</td>\n",
       "      <td>20210617_130836</td>\n",
       "      <td>-1.638763</td>\n",
       "      <td>0.035442</td>\n",
       "    </tr>\n",
       "    <tr>\n",
       "      <th>3</th>\n",
       "      <td>100499</td>\n",
       "      <td>1.623928e+09</td>\n",
       "      <td>-0.084740</td>\n",
       "      <td>-0.012162</td>\n",
       "      <td>-0.022771</td>\n",
       "      <td>-0.046027</td>\n",
       "      <td>30.533235</td>\n",
       "      <td>206.1</td>\n",
       "      <td>449.7</td>\n",
       "      <td>1.234</td>\n",
       "      <td>2.0</td>\n",
       "      <td>0.0</td>\n",
       "      <td>0.421130</td>\n",
       "      <td>0.329882</td>\n",
       "      <td>20210617_130836</td>\n",
       "      <td>-2.030217</td>\n",
       "      <td>0.051351</td>\n",
       "    </tr>\n",
       "    <tr>\n",
       "      <th>4</th>\n",
       "      <td>100500</td>\n",
       "      <td>1.623928e+09</td>\n",
       "      <td>-0.085856</td>\n",
       "      <td>-0.013413</td>\n",
       "      <td>-0.038097</td>\n",
       "      <td>-0.037359</td>\n",
       "      <td>30.566507</td>\n",
       "      <td>200.4</td>\n",
       "      <td>443.3</td>\n",
       "      <td>1.014</td>\n",
       "      <td>2.0</td>\n",
       "      <td>0.0</td>\n",
       "      <td>0.418559</td>\n",
       "      <td>0.330050</td>\n",
       "      <td>20210617_130836</td>\n",
       "      <td>-2.365973</td>\n",
       "      <td>0.053358</td>\n",
       "    </tr>\n",
       "    <tr>\n",
       "      <th>...</th>\n",
       "      <td>...</td>\n",
       "      <td>...</td>\n",
       "      <td>...</td>\n",
       "      <td>...</td>\n",
       "      <td>...</td>\n",
       "      <td>...</td>\n",
       "      <td>...</td>\n",
       "      <td>...</td>\n",
       "      <td>...</td>\n",
       "      <td>...</td>\n",
       "      <td>...</td>\n",
       "      <td>...</td>\n",
       "      <td>...</td>\n",
       "      <td>...</td>\n",
       "      <td>...</td>\n",
       "      <td>...</td>\n",
       "      <td>...</td>\n",
       "    </tr>\n",
       "    <tr>\n",
       "      <th>316444</th>\n",
       "      <td>207003</td>\n",
       "      <td>1.625581e+09</td>\n",
       "      <td>0.006119</td>\n",
       "      <td>0.007782</td>\n",
       "      <td>-0.001218</td>\n",
       "      <td>-0.013183</td>\n",
       "      <td>1017.096552</td>\n",
       "      <td>671.3</td>\n",
       "      <td>551.8</td>\n",
       "      <td>1.435</td>\n",
       "      <td>2.0</td>\n",
       "      <td>0.0</td>\n",
       "      <td>0.535632</td>\n",
       "      <td>0.514181</td>\n",
       "      <td>20210706_160203</td>\n",
       "      <td>-1.662953</td>\n",
       "      <td>0.013239</td>\n",
       "    </tr>\n",
       "    <tr>\n",
       "      <th>316445</th>\n",
       "      <td>207004</td>\n",
       "      <td>1.625581e+09</td>\n",
       "      <td>0.006064</td>\n",
       "      <td>0.007330</td>\n",
       "      <td>-0.001788</td>\n",
       "      <td>-0.013662</td>\n",
       "      <td>1017.129889</td>\n",
       "      <td>671.0</td>\n",
       "      <td>549.5</td>\n",
       "      <td>1.448</td>\n",
       "      <td>2.0</td>\n",
       "      <td>0.0</td>\n",
       "      <td>0.535632</td>\n",
       "      <td>0.514181</td>\n",
       "      <td>20210706_160203</td>\n",
       "      <td>-1.700951</td>\n",
       "      <td>0.013778</td>\n",
       "    </tr>\n",
       "    <tr>\n",
       "      <th>316446</th>\n",
       "      <td>207005</td>\n",
       "      <td>1.625581e+09</td>\n",
       "      <td>0.005964</td>\n",
       "      <td>0.006815</td>\n",
       "      <td>-0.003321</td>\n",
       "      <td>-0.015899</td>\n",
       "      <td>1017.163245</td>\n",
       "      <td>670.5</td>\n",
       "      <td>546.9</td>\n",
       "      <td>1.452</td>\n",
       "      <td>2.0</td>\n",
       "      <td>0.0</td>\n",
       "      <td>0.535632</td>\n",
       "      <td>0.514181</td>\n",
       "      <td>20210706_160203</td>\n",
       "      <td>-1.776727</td>\n",
       "      <td>0.016243</td>\n",
       "    </tr>\n",
       "    <tr>\n",
       "      <th>316447</th>\n",
       "      <td>207024</td>\n",
       "      <td>1.625581e+09</td>\n",
       "      <td>0.005127</td>\n",
       "      <td>0.006056</td>\n",
       "      <td>-0.008902</td>\n",
       "      <td>-0.007767</td>\n",
       "      <td>1017.796563</td>\n",
       "      <td>666.3</td>\n",
       "      <td>543.0</td>\n",
       "      <td>0.859</td>\n",
       "      <td>2.0</td>\n",
       "      <td>0.0</td>\n",
       "      <td>0.535632</td>\n",
       "      <td>0.514181</td>\n",
       "      <td>20210706_160203</td>\n",
       "      <td>-2.424194</td>\n",
       "      <td>0.011814</td>\n",
       "    </tr>\n",
       "    <tr>\n",
       "      <th>316448</th>\n",
       "      <td>207027</td>\n",
       "      <td>1.625581e+09</td>\n",
       "      <td>0.004394</td>\n",
       "      <td>0.005538</td>\n",
       "      <td>-0.009081</td>\n",
       "      <td>-0.005493</td>\n",
       "      <td>1017.896513</td>\n",
       "      <td>662.5</td>\n",
       "      <td>540.4</td>\n",
       "      <td>0.753</td>\n",
       "      <td>2.0</td>\n",
       "      <td>0.0</td>\n",
       "      <td>0.535632</td>\n",
       "      <td>0.514181</td>\n",
       "      <td>20210706_160203</td>\n",
       "      <td>-2.597626</td>\n",
       "      <td>0.010613</td>\n",
       "    </tr>\n",
       "  </tbody>\n",
       "</table>\n",
       "<p>316449 rows × 17 columns</p>\n",
       "</div>"
      ]
     },
     "metadata": {},
     "execution_count": 72
    }
   ],
   "metadata": {}
  },
  {
   "cell_type": "code",
   "execution_count": 73,
   "source": [
    "ax = plt.subplot(111, polar=True)\n",
    "ax.hist(use_df.walking_angle, bins=36, facecolor='g');\n",
    "#ax.set_title('Distribution of TNTe flies walking angles', fontsize=20)\n",
    "#plt.savefig(\"/Users/ambra-stella/bachelor/analysis/plots/TNTe_polar_big_summary_positive_until_distractor.pdf\")"
   ],
   "outputs": [
    {
     "output_type": "display_data",
     "data": {
      "text/plain": [
       "<Figure size 432x288 with 1 Axes>"
      ],
      "image/png": "[encoded data removed]"
     },
     "metadata": {
      "needs_background": "light"
     }
    }
   ],
   "metadata": {}
  },
  {
   "cell_type": "code",
   "execution_count": 62,
   "source": [
    "len(use_df)"
   ],
   "outputs": [
    {
     "output_type": "execute_result",
     "data": {
      "text/plain": [
       "303992"
      ]
     },
     "metadata": {},
     "execution_count": 62
    }
   ],
   "metadata": {}
  },
  {
   "cell_type": "code",
   "execution_count": 63,
   "source": [
    "#bad = ['20210701_141424']\n",
    "no_artifacts = use_df.loc[(use_df.fly_number != '20210701_141424')&(use_df.fly_number != '20210630_155725')]\n",
    "use_df = no_artifacts "
   ],
   "outputs": [],
   "metadata": {}
  },
  {
   "cell_type": "markdown",
   "source": [
    "# creates data for the box plot: "
   ],
   "metadata": {}
  },
  {
   "cell_type": "code",
   "execution_count": 74,
   "source": [
    "\n",
    "list_flies = use_df['fly_number'].to_list()\n",
    "#print('flies:', list_flies)\n",
    "list_flies = set(list_flies)\n",
    "#print('flies:', list_flies)\n",
    "print('flies type:', type(list_flies))\n",
    "list_flies = list(list_flies)\n",
    "list_flies = [x for x in list_flies if str(x) != 'nan']\n",
    "print('flies:', list_flies)\n",
    "print(len(list_flies))"
   ],
   "outputs": [
    {
     "output_type": "stream",
     "name": "stdout",
     "text": [
      "flies type: <class 'set'>\n",
      "flies: ['20210617_130836', '20210618_122803', '20210706_144658', '20210621_170022', '20210617_141709', '20210618_140636', '20210702_130824', '20210618_130146', '20210706_160203', '20210617_150749', '20210628_144628', '20210617_154010', '20210702_152610', '20210622_152246']\n",
      "14\n"
     ]
    }
   ],
   "metadata": {}
  },
  {
   "cell_type": "code",
   "execution_count": 75,
   "source": [
    "# use_df = df\n",
    "# list_flies = use_df['fly_number'].tolist()\n",
    "# list_flies = set(list_flies)\n",
    "# list_flies = list(list_flies)\n",
    "# #print('flies:', list_flies)\n",
    "\n",
    "\n",
    "#single_fly_histogram_data = []\n",
    "single_fly_histogram_bins = []\n",
    "single_fly_histogram_counts = []\n",
    "# single_fly_histogram_data = np.array(())\n",
    "# print(single_fly_histogram_data)\n",
    "\n",
    "for flies in list_flies:\n",
    "        fly = use_df[use_df.fly_number == flies]\n",
    "        histogram_data = plt.hist(fly.walking_angle, 36, fill=False);\n",
    "        counts, bins, bars = plt.hist(fly.walking_angle,36, fill=False)\n",
    "        #print(histogram_data)\n",
    "        #print(flies)\n",
    "        #print('fly i need to know:', flies == 5)\n",
    "        #print(counts)\n",
    "        \n",
    "        single_fly_histogram_bins.append (bins)\n",
    "        single_fly_histogram_counts.append(counts)   ############## has all direction counts of every fly in an arrays (sorted from left to right)\n",
    "        #single_fly_histogram_data.append(histogram_data)\n",
    "\n",
    "        \n",
    "        #np.append(single_fly_histogram_data,histogram_data, axis = 0)\n",
    "        \n",
    "angle_list = []                                     ################# has all the counts per flies per direction sorted from left to right\n",
    "for flies in range(len(bins)):\n",
    "    arr = []\n",
    "    angle_list.append(arr)\n",
    "#print(angle_list)\n",
    "\n",
    "for i in range(len(single_fly_histogram_counts)):\n",
    "    array = single_fly_histogram_counts[i]\n",
    "    #print(len(array))\n",
    "    for j in range(len(array)):\n",
    "        #print(j)\n",
    "        cunt = array[j]\n",
    "        #print(cunt)\n",
    "    \n",
    "        #print(type(angle_list))\n",
    "        angle_list[j].append(cunt)\n",
    "        #print(new_array)       \n"
   ],
   "outputs": [
    {
     "output_type": "display_data",
     "data": {
      "text/plain": [
       "<Figure size 432x288 with 1 Axes>"
      ],
      "image/png": "[encoded data removed]"
     },
     "metadata": {
      "needs_background": "light"
     }
    }
   ],
   "metadata": {}
  },
  {
   "cell_type": "markdown",
   "source": [
    "#  creates box plot:"
   ],
   "metadata": {}
  },
  {
   "cell_type": "code",
   "execution_count": 76,
   "source": [
    "fig, ax = plt.subplots(figsize=(20,7))\n",
    "#plt.figure(figsize=(15,20))\n",
    "plt.boxplot(angle_list);\n",
    "\n",
    "ax.set_ylabel('Counts', fontsize=30)\n",
    "ax.set_xlabel('10° bins', fontsize=30)\n",
    "ax.set_title('TNTe flies which triggered the distraction event', fontsize=35)\n",
    "ax.tick_params(axis='both', labelsize = 20)\n",
    "plt.xlim(0, 37)\n",
    "#plt.savefig(\"/Users/ambra-stella/bachelor/analysis/plots/TNTe_boxplot_big_summary_positive_until_distractor.pdf\")"
   ],
   "outputs": [
    {
     "output_type": "execute_result",
     "data": {
      "text/plain": [
       "(0.0, 37.0)"
      ]
     },
     "metadata": {},
     "execution_count": 76
    },
    {
     "output_type": "display_data",
     "data": {
      "text/plain": [
       "<Figure size 1440x504 with 1 Axes>"
      ],
      "image/png": "[encoded data removed]"
     },
     "metadata": {
      "needs_background": "light"
     }
    }
   ],
   "metadata": {}
  },
  {
   "cell_type": "code",
   "execution_count": 106,
   "source": [
    "len(single_fly_histogram_bins)"
   ],
   "outputs": [
    {
     "output_type": "execute_result",
     "data": {
      "text/plain": [
       "14"
      ]
     },
     "metadata": {},
     "execution_count": 106
    }
   ],
   "metadata": {}
  },
  {
   "cell_type": "code",
   "execution_count": 78,
   "source": [
    "\n",
    "#len(angle_list)\n",
    "#angle_list = angle_list.remove(angle_list[36])\n",
    "del angle_list[-1]\n",
    "print(angle_list)\n",
    "print(len(angle_list))"
   ],
   "outputs": [
    {
     "output_type": "stream",
     "name": "stdout",
     "text": [
      "[[1476.0, 369.0, 1403.0, 286.0, 1594.0, 1377.0, 912.0, 687.0, 145.0, 1250.0, 173.0, 1942.0, 776.0, 515.0], [1105.0, 330.0, 1413.0, 256.0, 1279.0, 907.0, 852.0, 427.0, 142.0, 1034.0, 139.0, 1433.0, 698.0, 395.0], [772.0, 318.0, 1192.0, 253.0, 1071.0, 671.0, 775.0, 270.0, 150.0, 864.0, 91.0, 995.0, 612.0, 432.0], [742.0, 311.0, 1143.0, 218.0, 900.0, 575.0, 732.0, 204.0, 121.0, 734.0, 93.0, 757.0, 488.0, 339.0], [728.0, 348.0, 1025.0, 200.0, 898.0, 538.0, 680.0, 187.0, 119.0, 585.0, 95.0, 640.0, 473.0, 327.0], [705.0, 327.0, 883.0, 173.0, 934.0, 548.0, 617.0, 204.0, 157.0, 532.0, 110.0, 474.0, 506.0, 307.0], [695.0, 310.0, 892.0, 156.0, 866.0, 557.0, 591.0, 202.0, 105.0, 465.0, 92.0, 504.0, 478.0, 315.0], [590.0, 272.0, 1023.0, 152.0, 821.0, 464.0, 581.0, 272.0, 123.0, 463.0, 97.0, 563.0, 465.0, 282.0], [603.0, 204.0, 997.0, 139.0, 852.0, 477.0, 675.0, 234.0, 123.0, 552.0, 122.0, 526.0, 445.0, 310.0], [543.0, 188.0, 977.0, 159.0, 889.0, 400.0, 616.0, 186.0, 99.0, 576.0, 82.0, 601.0, 386.0, 256.0], [478.0, 170.0, 983.0, 153.0, 902.0, 394.0, 536.0, 203.0, 119.0, 557.0, 51.0, 593.0, 480.0, 208.0], [514.0, 232.0, 899.0, 142.0, 978.0, 349.0, 567.0, 199.0, 123.0, 508.0, 56.0, 699.0, 506.0, 260.0], [535.0, 212.0, 844.0, 146.0, 1173.0, 350.0, 664.0, 198.0, 122.0, 506.0, 65.0, 861.0, 450.0, 303.0], [644.0, 171.0, 735.0, 174.0, 1411.0, 394.0, 647.0, 242.0, 69.0, 513.0, 83.0, 1156.0, 440.0, 367.0], [733.0, 195.0, 896.0, 186.0, 1831.0, 507.0, 653.0, 306.0, 80.0, 612.0, 90.0, 1697.0, 415.0, 431.0], [1194.0, 317.0, 987.0, 286.0, 2322.0, 814.0, 659.0, 422.0, 106.0, 904.0, 77.0, 2487.0, 436.0, 535.0], [1923.0, 394.0, 1148.0, 422.0, 2473.0, 1724.0, 870.0, 767.0, 170.0, 1323.0, 159.0, 3118.0, 549.0, 693.0], [2563.0, 480.0, 1465.0, 488.0, 2350.0, 2478.0, 1014.0, 784.0, 150.0, 1889.0, 260.0, 3017.0, 714.0, 718.0], [2276.0, 406.0, 1770.0, 416.0, 1863.0, 1751.0, 1071.0, 759.0, 186.0, 1872.0, 241.0, 2022.0, 807.0, 630.0], [1464.0, 289.0, 1835.0, 295.0, 1402.0, 969.0, 1109.0, 410.0, 281.0, 1380.0, 211.0, 1041.0, 992.0, 428.0], [917.0, 232.0, 1536.0, 218.0, 1140.0, 675.0, 792.0, 216.0, 232.0, 882.0, 142.0, 615.0, 836.0, 334.0], [702.0, 219.0, 1096.0, 163.0, 925.0, 496.0, 564.0, 171.0, 112.0, 570.0, 94.0, 513.0, 641.0, 249.0], [580.0, 255.0, 910.0, 149.0, 788.0, 426.0, 542.0, 170.0, 53.0, 431.0, 96.0, 449.0, 541.0, 226.0], [486.0, 269.0, 926.0, 136.0, 763.0, 405.0, 645.0, 186.0, 75.0, 379.0, 93.0, 474.0, 454.0, 273.0], [450.0, 276.0, 945.0, 140.0, 760.0, 388.0, 713.0, 150.0, 62.0, 386.0, 86.0, 495.0, 326.0, 279.0], [413.0, 278.0, 1025.0, 161.0, 719.0, 364.0, 693.0, 273.0, 51.0, 404.0, 77.0, 571.0, 343.0, 274.0], [411.0, 248.0, 933.0, 148.0, 764.0, 392.0, 718.0, 279.0, 106.0, 356.0, 63.0, 651.0, 379.0, 284.0], [448.0, 259.0, 838.0, 169.0, 822.0, 430.0, 597.0, 218.0, 149.0, 411.0, 67.0, 682.0, 406.0, 345.0], [486.0, 335.0, 890.0, 177.0, 916.0, 365.0, 548.0, 218.0, 160.0, 465.0, 85.0, 761.0, 387.0, 312.0], [501.0, 228.0, 781.0, 213.0, 1031.0, 459.0, 667.0, 215.0, 103.0, 530.0, 81.0, 884.0, 411.0, 372.0], [568.0, 252.0, 856.0, 193.0, 1198.0, 533.0, 729.0, 237.0, 108.0, 592.0, 99.0, 1044.0, 413.0, 401.0], [791.0, 261.0, 1075.0, 227.0, 1415.0, 676.0, 624.0, 221.0, 86.0, 824.0, 81.0, 1300.0, 426.0, 396.0], [1176.0, 291.0, 1230.0, 229.0, 1952.0, 934.0, 631.0, 289.0, 133.0, 978.0, 115.0, 1711.0, 538.0, 391.0], [1732.0, 453.0, 1174.0, 298.0, 2381.0, 1261.0, 688.0, 490.0, 146.0, 1321.0, 155.0, 2108.0, 688.0, 492.0], [2225.0, 484.0, 1146.0, 293.0, 2522.0, 1459.0, 854.0, 641.0, 123.0, 1608.0, 179.0, 2502.0, 818.0, 515.0], [1961.0, 399.0, 1130.0, 281.0, 2238.0, 1537.0, 903.0, 745.0, 94.0, 1533.0, 179.0, 2426.0, 875.0, 588.0]]\n",
      "36\n"
     ]
    }
   ],
   "metadata": {}
  },
  {
   "cell_type": "markdown",
   "source": [
    "# trying to create a index for each fly in each of the four groups:"
   ],
   "metadata": {}
  },
  {
   "cell_type": "code",
   "execution_count": 80,
   "source": [
    "# neg_triggered_index_df = pd.DataFrame()\n",
    "# neg_triggered_index_df['genotype'] = ''\n",
    "# neg_triggered_index_df['side'] = ''\n",
    "# neg_triggered_index_df['APD'] = ''\n",
    "neg_triggered_index_df"
   ],
   "outputs": [
    {
     "output_type": "execute_result",
     "data": {
      "text/plain": [
       "   genotype   side       APD\n",
       "0      TNTe   left  0.091560\n",
       "1      TNTe   left  0.030536\n",
       "2      TNTe   left  0.149074\n",
       "3      TNTe   left  0.064121\n",
       "4      TNTe   left  0.003288\n",
       "..      ...    ...       ...\n",
       "67    TNTin  right  0.411735\n",
       "68    TNTin  right  0.366971\n",
       "69    TNTin  right  0.352434\n",
       "70    TNTin  right  0.126129\n",
       "71    TNTin  right  0.232119\n",
       "\n",
       "[72 rows x 3 columns]"
      ],
      "text/html": [
       "<div>\n",
       "<style scoped>\n",
       "    .dataframe tbody tr th:only-of-type {\n",
       "        vertical-align: middle;\n",
       "    }\n",
       "\n",
       "    .dataframe tbody tr th {\n",
       "        vertical-align: top;\n",
       "    }\n",
       "\n",
       "    .dataframe thead th {\n",
       "        text-align: right;\n",
       "    }\n",
       "</style>\n",
       "<table border=\"1\" class=\"dataframe\">\n",
       "  <thead>\n",
       "    <tr style=\"text-align: right;\">\n",
       "      <th></th>\n",
       "      <th>genotype</th>\n",
       "      <th>side</th>\n",
       "      <th>APD</th>\n",
       "    </tr>\n",
       "  </thead>\n",
       "  <tbody>\n",
       "    <tr>\n",
       "      <th>0</th>\n",
       "      <td>TNTe</td>\n",
       "      <td>left</td>\n",
       "      <td>0.091560</td>\n",
       "    </tr>\n",
       "    <tr>\n",
       "      <th>1</th>\n",
       "      <td>TNTe</td>\n",
       "      <td>left</td>\n",
       "      <td>0.030536</td>\n",
       "    </tr>\n",
       "    <tr>\n",
       "      <th>2</th>\n",
       "      <td>TNTe</td>\n",
       "      <td>left</td>\n",
       "      <td>0.149074</td>\n",
       "    </tr>\n",
       "    <tr>\n",
       "      <th>3</th>\n",
       "      <td>TNTe</td>\n",
       "      <td>left</td>\n",
       "      <td>0.064121</td>\n",
       "    </tr>\n",
       "    <tr>\n",
       "      <th>4</th>\n",
       "      <td>TNTe</td>\n",
       "      <td>left</td>\n",
       "      <td>0.003288</td>\n",
       "    </tr>\n",
       "    <tr>\n",
       "      <th>...</th>\n",
       "      <td>...</td>\n",
       "      <td>...</td>\n",
       "      <td>...</td>\n",
       "    </tr>\n",
       "    <tr>\n",
       "      <th>67</th>\n",
       "      <td>TNTin</td>\n",
       "      <td>right</td>\n",
       "      <td>0.411735</td>\n",
       "    </tr>\n",
       "    <tr>\n",
       "      <th>68</th>\n",
       "      <td>TNTin</td>\n",
       "      <td>right</td>\n",
       "      <td>0.366971</td>\n",
       "    </tr>\n",
       "    <tr>\n",
       "      <th>69</th>\n",
       "      <td>TNTin</td>\n",
       "      <td>right</td>\n",
       "      <td>0.352434</td>\n",
       "    </tr>\n",
       "    <tr>\n",
       "      <th>70</th>\n",
       "      <td>TNTin</td>\n",
       "      <td>right</td>\n",
       "      <td>0.126129</td>\n",
       "    </tr>\n",
       "    <tr>\n",
       "      <th>71</th>\n",
       "      <td>TNTin</td>\n",
       "      <td>right</td>\n",
       "      <td>0.232119</td>\n",
       "    </tr>\n",
       "  </tbody>\n",
       "</table>\n",
       "<p>72 rows × 3 columns</p>\n",
       "</div>"
      ]
     },
     "metadata": {},
     "execution_count": 80
    }
   ],
   "metadata": {}
  },
  {
   "cell_type": "code",
   "execution_count": 79,
   "source": [
    "gt = 'TNTin'\n",
    "\n",
    "TNTe_index_list = []\n",
    "for i in range(len(single_fly_histogram_counts)):\n",
    "    arr = []\n",
    "    TNTe_index_list.append(arr)\n",
    "#print('wt_angle_list:',wt_angle_list)\n",
    "\n",
    "TNTe_index_array = []\n",
    "\n",
    "\n",
    "percentage_per_bin_per_fly = []\n",
    "for i in range(len(single_fly_histogram_counts)):\n",
    "    arr = []\n",
    "    percentage_per_bin_per_fly.append(arr)\n",
    "print('percentage_per_bin_per_fly:',percentage_per_bin_per_fly)\n",
    "\n",
    "sum_list = []\n",
    "for j in range(len(single_fly_histogram_counts)):\n",
    "    summ = sum(single_fly_histogram_counts[j])\n",
    "    sum_list.append(summ)\n",
    "print('sum_list:',sum_list)\n",
    "    \n",
    "for k in range(len(single_fly_histogram_counts)):\n",
    "    sub_list = single_fly_histogram_counts[k]\n",
    "    for o in range(len(sub_list)):\n",
    "        bin_count = sub_list[o]\n",
    "        percentage = bin_count / sum_list[k]\n",
    "        percentage_per_bin_per_fly[k].append(percentage)\n",
    "\n",
    "#print(percentage_per_bin_per_fly)\n",
    "print('number of flies:', len(percentage_per_bin_per_fly))\n",
    "#print(angle_list_sum_list)\n",
    "#print(percentage_per_bin)\n",
    "\n",
    "\n",
    "for a in range(len(percentage_per_bin_per_fly)):\n",
    "    sub_list = percentage_per_bin_per_fly[a]\n",
    "\n",
    "    bins_of_interest = [sub_list[0], sub_list[35]]\n",
    "    #print(bins_of_interest)\n",
    "    bins_not_of_interest = sub_list\n",
    "# #print(len(bins_not_of_interest))\n",
    "    del bins_not_of_interest[0]\n",
    "    del bins_not_of_interest[34]\n",
    "# # print(bins_not_of_interest)\n",
    "# # print(len(bins_not_of_interest))\n",
    "    APD_right =  (sum(bins_of_interest)/len(bins_of_interest) *10)-(sum(bins_not_of_interest)/len(bins_not_of_interest) *10)\n",
    "# print(sum(bins_of_interest),len(bins_of_interest), sum(bins_not_of_interest), len(bins_not_of_interest))\n",
    "    #print('APD_right:', APD_right)\n",
    "    #TNTe_index_list[a].append(APD_right)\n",
    "    side = 'left'\n",
    "    thing = pd.DataFrame([[gt, side, APD_right]], columns = ['genotype','side','APD'])\n",
    "    neg_triggered_index_df = neg_triggered_index_df.append(thing,ignore_index=True)\n",
    "    #print('thing:',thing)\n",
    "    \n",
    "\n",
    "for a in range(len(percentage_per_bin_per_fly)):\n",
    "    sub_list = percentage_per_bin_per_fly[a]\n",
    "\n",
    "    bins_of_interest = [sub_list[16], sub_list[17]]\n",
    "    #print(bins_of_interest)\n",
    "    bins_not_of_interest = sub_list\n",
    "# #print(len(bins_not_of_interest))\n",
    "    del bins_not_of_interest[16]\n",
    "    del bins_not_of_interest[16]\n",
    "# # print(bins_not_of_interest)\n",
    "# # print(len(bins_not_of_interest))\n",
    "    APD_left =  (sum(bins_of_interest)/len(bins_of_interest) *10)-(sum(bins_not_of_interest)/len(bins_not_of_interest) *10)\n",
    "    side = 'right'\n",
    "    other_thing = pd.DataFrame([[gt, side, APD_left]], columns = ['genotype','side','APD'])\n",
    "    neg_triggered_index_df = neg_triggered_index_df.append(other_thing,ignore_index=True)"
   ],
   "outputs": [
    {
     "output_type": "stream",
     "name": "stdout",
     "text": [
      "percentage_per_bin_per_fly: [[], [], [], [], [], [], [], [], [], [], [], [], [], []]\n",
      "sum_list: [34130.0, 10582.0, 39001.0, 7895.0, 47143.0, 27044.0, 25729.0, 11882.0, 4483.0, 28789.0, 4079.0, 42312.0, 19598.0, 13782.0]\n",
      "number of flies: 14\n"
     ]
    }
   ],
   "metadata": {}
  },
  {
   "cell_type": "code",
   "execution_count": 245,
   "source": [
    "fig, ax = plt.subplots(figsize=(11,7))\n",
    "ax = sns.boxplot(x = 'side',y = 'APD', hue = 'genotype', data=neg_triggered_index_df, fliersize=0)\n",
    "ax = sns.swarmplot(x = 'side',y = 'APD', hue = 'genotype', data = neg_triggered_index_df, dodge=True, color=\".2\")\n",
    "ax.tick_params(axis='both', labelsize = 20)\n",
    "plt.ylim(0.0, 0.9)"
   ],
   "outputs": [
    {
     "output_type": "execute_result",
     "data": {
      "text/plain": [
       "(0.0, 0.9)"
      ]
     },
     "metadata": {},
     "execution_count": 245
    },
    {
     "output_type": "display_data",
     "data": {
      "text/plain": [
       "<Figure size 792x504 with 1 Axes>"
      ],
      "image/png": "[encoded data removed]"
     },
     "metadata": {
      "needs_background": "light"
     }
    }
   ],
   "metadata": {}
  },
  {
   "cell_type": "code",
   "execution_count": 43,
   "source": [
    "# pos_triggered_index_df = pd.DataFrame()\n",
    "# pos_triggered_index_df['genotype'] = ''\n",
    "# pos_triggered_index_df['side'] = ''\n",
    "# pos_triggered_index_df['APD'] = ''\n",
    "pos_triggered_index_df"
   ],
   "outputs": [
    {
     "output_type": "execute_result",
     "data": {
      "text/plain": [
       "Empty DataFrame\n",
       "Columns: [genotype, side, APD]\n",
       "Index: []"
      ],
      "text/html": [
       "<div>\n",
       "<style scoped>\n",
       "    .dataframe tbody tr th:only-of-type {\n",
       "        vertical-align: middle;\n",
       "    }\n",
       "\n",
       "    .dataframe tbody tr th {\n",
       "        vertical-align: top;\n",
       "    }\n",
       "\n",
       "    .dataframe thead th {\n",
       "        text-align: right;\n",
       "    }\n",
       "</style>\n",
       "<table border=\"1\" class=\"dataframe\">\n",
       "  <thead>\n",
       "    <tr style=\"text-align: right;\">\n",
       "      <th></th>\n",
       "      <th>genotype</th>\n",
       "      <th>side</th>\n",
       "      <th>APD</th>\n",
       "    </tr>\n",
       "  </thead>\n",
       "  <tbody>\n",
       "  </tbody>\n",
       "</table>\n",
       "</div>"
      ]
     },
     "metadata": {},
     "execution_count": 43
    }
   ],
   "metadata": {}
  },
  {
   "cell_type": "code",
   "execution_count": 94,
   "source": [
    "neg_right = scipy.stats.ttest_ind(neg_TNTin_right_APD, neg_TNTe_right_APD, axis=0)\n",
    "print('neg_right:', neg_right)\n",
    "\n",
    "neg_left = scipy.stats.ttest_ind(neg_TNTin_left_APD, neg_TNTe_left_APD, axis=0)\n",
    "print('neg_left:', neg_left)\n",
    "\n",
    "pos_right = scipy.stats.ttest_ind(pos_TNTin_right_APD, pos_TNTe_right_APD, axis=0)\n",
    "print('pos_right:', pos_right)\n",
    "\n",
    "pos_left = scipy.stats.ttest_ind(pos_TNTin_left_APD, pos_TNTe_left_APD, axis=0)\n",
    "print('pos_left:', pos_left)"
   ],
   "outputs": [
    {
     "output_type": "stream",
     "name": "stdout",
     "text": [
      "neg_right: Ttest_indResult(statistic=2.2144759220270025, pvalue=0.03360183904352117)\n",
      "neg_left: Ttest_indResult(statistic=2.4167166643629105, pvalue=0.021176725373386475)\n",
      "pos_right: Ttest_indResult(statistic=3.936357236458316, pvalue=0.0009677516253387005)\n",
      "pos_left: Ttest_indResult(statistic=1.8070517203832528, pvalue=0.08749917853212037)\n"
     ]
    }
   ],
   "metadata": {}
  },
  {
   "cell_type": "code",
   "execution_count": 93,
   "source": [
    "pos_TNTin_left = pos_triggered_index_df.loc[(pos_triggered_index_df.side == 'left') & (pos_triggered_index_df.genotype == 'TNTin')]\n",
    "pos_TNTin_left_APD = pos_TNTin_left.APD\n",
    "pos_TNTin_right = pos_triggered_index_df.loc[(pos_triggered_index_df.side == 'right') & (pos_triggered_index_df.genotype == 'TNTin')]\n",
    "pos_TNTin_right_APD = pos_TNTin_right.APD\n",
    "\n",
    "pos_TNTe_left = pos_triggered_index_df.loc[(pos_triggered_index_df.side == 'left') & (pos_triggered_index_df.genotype == 'TNTe')]\n",
    "pos_TNTe_left_APD = pos_TNTe_left.APD\n",
    "pos_TNTe_right = pos_triggered_index_df.loc[(pos_triggered_index_df.side == 'right') & (pos_triggered_index_df.genotype == 'TNTe')]\n",
    "pos_TNTe_right_APD = pos_TNTe_right.APD"
   ],
   "outputs": [],
   "metadata": {}
  },
  {
   "cell_type": "code",
   "execution_count": 81,
   "source": [
    "neg_triggered_index_df"
   ],
   "outputs": [
    {
     "output_type": "execute_result",
     "data": {
      "text/plain": [
       "   genotype   side       APD\n",
       "0      TNTe   left  0.091560\n",
       "1      TNTe   left  0.030536\n",
       "2      TNTe   left  0.149074\n",
       "3      TNTe   left  0.064121\n",
       "4      TNTe   left  0.003288\n",
       "..      ...    ...       ...\n",
       "67    TNTin  right  0.411735\n",
       "68    TNTin  right  0.366971\n",
       "69    TNTin  right  0.352434\n",
       "70    TNTin  right  0.126129\n",
       "71    TNTin  right  0.232119\n",
       "\n",
       "[72 rows x 3 columns]"
      ],
      "text/html": [
       "<div>\n",
       "<style scoped>\n",
       "    .dataframe tbody tr th:only-of-type {\n",
       "        vertical-align: middle;\n",
       "    }\n",
       "\n",
       "    .dataframe tbody tr th {\n",
       "        vertical-align: top;\n",
       "    }\n",
       "\n",
       "    .dataframe thead th {\n",
       "        text-align: right;\n",
       "    }\n",
       "</style>\n",
       "<table border=\"1\" class=\"dataframe\">\n",
       "  <thead>\n",
       "    <tr style=\"text-align: right;\">\n",
       "      <th></th>\n",
       "      <th>genotype</th>\n",
       "      <th>side</th>\n",
       "      <th>APD</th>\n",
       "    </tr>\n",
       "  </thead>\n",
       "  <tbody>\n",
       "    <tr>\n",
       "      <th>0</th>\n",
       "      <td>TNTe</td>\n",
       "      <td>left</td>\n",
       "      <td>0.091560</td>\n",
       "    </tr>\n",
       "    <tr>\n",
       "      <th>1</th>\n",
       "      <td>TNTe</td>\n",
       "      <td>left</td>\n",
       "      <td>0.030536</td>\n",
       "    </tr>\n",
       "    <tr>\n",
       "      <th>2</th>\n",
       "      <td>TNTe</td>\n",
       "      <td>left</td>\n",
       "      <td>0.149074</td>\n",
       "    </tr>\n",
       "    <tr>\n",
       "      <th>3</th>\n",
       "      <td>TNTe</td>\n",
       "      <td>left</td>\n",
       "      <td>0.064121</td>\n",
       "    </tr>\n",
       "    <tr>\n",
       "      <th>4</th>\n",
       "      <td>TNTe</td>\n",
       "      <td>left</td>\n",
       "      <td>0.003288</td>\n",
       "    </tr>\n",
       "    <tr>\n",
       "      <th>...</th>\n",
       "      <td>...</td>\n",
       "      <td>...</td>\n",
       "      <td>...</td>\n",
       "    </tr>\n",
       "    <tr>\n",
       "      <th>67</th>\n",
       "      <td>TNTin</td>\n",
       "      <td>right</td>\n",
       "      <td>0.411735</td>\n",
       "    </tr>\n",
       "    <tr>\n",
       "      <th>68</th>\n",
       "      <td>TNTin</td>\n",
       "      <td>right</td>\n",
       "      <td>0.366971</td>\n",
       "    </tr>\n",
       "    <tr>\n",
       "      <th>69</th>\n",
       "      <td>TNTin</td>\n",
       "      <td>right</td>\n",
       "      <td>0.352434</td>\n",
       "    </tr>\n",
       "    <tr>\n",
       "      <th>70</th>\n",
       "      <td>TNTin</td>\n",
       "      <td>right</td>\n",
       "      <td>0.126129</td>\n",
       "    </tr>\n",
       "    <tr>\n",
       "      <th>71</th>\n",
       "      <td>TNTin</td>\n",
       "      <td>right</td>\n",
       "      <td>0.232119</td>\n",
       "    </tr>\n",
       "  </tbody>\n",
       "</table>\n",
       "<p>72 rows × 3 columns</p>\n",
       "</div>"
      ]
     },
     "metadata": {},
     "execution_count": 81
    }
   ],
   "metadata": {}
  },
  {
   "cell_type": "code",
   "execution_count": 58,
   "source": [
    "pos_triggered_index_df"
   ],
   "outputs": [
    {
     "output_type": "execute_result",
     "data": {
      "text/plain": [
       "   genotype   side       APD\n",
       "0      TNTe   left  0.145310\n",
       "1      TNTe   left  0.354560\n",
       "2      TNTe   left  0.271343\n",
       "3      TNTe   left  0.172683\n",
       "4      TNTe   left  0.065874\n",
       "5      TNTe   left  0.293560\n",
       "6      TNTe   left  0.063498\n",
       "7      TNTe   left  0.201227\n",
       "8      TNTe   left  0.178763\n",
       "9      TNTe   left  0.134287\n",
       "10     TNTe   left  0.103600\n",
       "11     TNTe  right  0.175871\n",
       "12     TNTe  right  0.518325\n",
       "13     TNTe  right  0.318072\n",
       "14     TNTe  right  0.235523\n",
       "15     TNTe  right  0.040328\n",
       "16     TNTe  right  0.372391\n",
       "17     TNTe  right  0.004139\n",
       "18     TNTe  right  0.076276\n",
       "19     TNTe  right  0.231607\n",
       "20     TNTe  right  0.325536\n",
       "21     TNTe  right  0.094216\n",
       "22    TNTin   left  0.027505\n",
       "23    TNTin   left  0.395757\n",
       "24    TNTin   left  0.368459\n",
       "25    TNTin   left  0.372088\n",
       "26    TNTin   left  0.354469\n",
       "27    TNTin   left  0.182622\n",
       "28    TNTin   left  0.124463\n",
       "29    TNTin   left  0.383105\n",
       "30    TNTin   left  0.245218\n",
       "31    TNTin  right  0.319326\n",
       "32    TNTin  right  0.611726\n",
       "33    TNTin  right  0.650594\n",
       "34    TNTin  right  0.734060\n",
       "35    TNTin  right  0.451178\n",
       "36    TNTin  right  0.853758\n",
       "37    TNTin  right  0.280178\n",
       "38    TNTin  right  0.538237\n",
       "39    TNTin  right  0.342808"
      ],
      "text/html": [
       "<div>\n",
       "<style scoped>\n",
       "    .dataframe tbody tr th:only-of-type {\n",
       "        vertical-align: middle;\n",
       "    }\n",
       "\n",
       "    .dataframe tbody tr th {\n",
       "        vertical-align: top;\n",
       "    }\n",
       "\n",
       "    .dataframe thead th {\n",
       "        text-align: right;\n",
       "    }\n",
       "</style>\n",
       "<table border=\"1\" class=\"dataframe\">\n",
       "  <thead>\n",
       "    <tr style=\"text-align: right;\">\n",
       "      <th></th>\n",
       "      <th>genotype</th>\n",
       "      <th>side</th>\n",
       "      <th>APD</th>\n",
       "    </tr>\n",
       "  </thead>\n",
       "  <tbody>\n",
       "    <tr>\n",
       "      <th>0</th>\n",
       "      <td>TNTe</td>\n",
       "      <td>left</td>\n",
       "      <td>0.145310</td>\n",
       "    </tr>\n",
       "    <tr>\n",
       "      <th>1</th>\n",
       "      <td>TNTe</td>\n",
       "      <td>left</td>\n",
       "      <td>0.354560</td>\n",
       "    </tr>\n",
       "    <tr>\n",
       "      <th>2</th>\n",
       "      <td>TNTe</td>\n",
       "      <td>left</td>\n",
       "      <td>0.271343</td>\n",
       "    </tr>\n",
       "    <tr>\n",
       "      <th>3</th>\n",
       "      <td>TNTe</td>\n",
       "      <td>left</td>\n",
       "      <td>0.172683</td>\n",
       "    </tr>\n",
       "    <tr>\n",
       "      <th>4</th>\n",
       "      <td>TNTe</td>\n",
       "      <td>left</td>\n",
       "      <td>0.065874</td>\n",
       "    </tr>\n",
       "    <tr>\n",
       "      <th>5</th>\n",
       "      <td>TNTe</td>\n",
       "      <td>left</td>\n",
       "      <td>0.293560</td>\n",
       "    </tr>\n",
       "    <tr>\n",
       "      <th>6</th>\n",
       "      <td>TNTe</td>\n",
       "      <td>left</td>\n",
       "      <td>0.063498</td>\n",
       "    </tr>\n",
       "    <tr>\n",
       "      <th>7</th>\n",
       "      <td>TNTe</td>\n",
       "      <td>left</td>\n",
       "      <td>0.201227</td>\n",
       "    </tr>\n",
       "    <tr>\n",
       "      <th>8</th>\n",
       "      <td>TNTe</td>\n",
       "      <td>left</td>\n",
       "      <td>0.178763</td>\n",
       "    </tr>\n",
       "    <tr>\n",
       "      <th>9</th>\n",
       "      <td>TNTe</td>\n",
       "      <td>left</td>\n",
       "      <td>0.134287</td>\n",
       "    </tr>\n",
       "    <tr>\n",
       "      <th>10</th>\n",
       "      <td>TNTe</td>\n",
       "      <td>left</td>\n",
       "      <td>0.103600</td>\n",
       "    </tr>\n",
       "    <tr>\n",
       "      <th>11</th>\n",
       "      <td>TNTe</td>\n",
       "      <td>right</td>\n",
       "      <td>0.175871</td>\n",
       "    </tr>\n",
       "    <tr>\n",
       "      <th>12</th>\n",
       "      <td>TNTe</td>\n",
       "      <td>right</td>\n",
       "      <td>0.518325</td>\n",
       "    </tr>\n",
       "    <tr>\n",
       "      <th>13</th>\n",
       "      <td>TNTe</td>\n",
       "      <td>right</td>\n",
       "      <td>0.318072</td>\n",
       "    </tr>\n",
       "    <tr>\n",
       "      <th>14</th>\n",
       "      <td>TNTe</td>\n",
       "      <td>right</td>\n",
       "      <td>0.235523</td>\n",
       "    </tr>\n",
       "    <tr>\n",
       "      <th>15</th>\n",
       "      <td>TNTe</td>\n",
       "      <td>right</td>\n",
       "      <td>0.040328</td>\n",
       "    </tr>\n",
       "    <tr>\n",
       "      <th>16</th>\n",
       "      <td>TNTe</td>\n",
       "      <td>right</td>\n",
       "      <td>0.372391</td>\n",
       "    </tr>\n",
       "    <tr>\n",
       "      <th>17</th>\n",
       "      <td>TNTe</td>\n",
       "      <td>right</td>\n",
       "      <td>0.004139</td>\n",
       "    </tr>\n",
       "    <tr>\n",
       "      <th>18</th>\n",
       "      <td>TNTe</td>\n",
       "      <td>right</td>\n",
       "      <td>0.076276</td>\n",
       "    </tr>\n",
       "    <tr>\n",
       "      <th>19</th>\n",
       "      <td>TNTe</td>\n",
       "      <td>right</td>\n",
       "      <td>0.231607</td>\n",
       "    </tr>\n",
       "    <tr>\n",
       "      <th>20</th>\n",
       "      <td>TNTe</td>\n",
       "      <td>right</td>\n",
       "      <td>0.325536</td>\n",
       "    </tr>\n",
       "    <tr>\n",
       "      <th>21</th>\n",
       "      <td>TNTe</td>\n",
       "      <td>right</td>\n",
       "      <td>0.094216</td>\n",
       "    </tr>\n",
       "    <tr>\n",
       "      <th>22</th>\n",
       "      <td>TNTin</td>\n",
       "      <td>left</td>\n",
       "      <td>0.027505</td>\n",
       "    </tr>\n",
       "    <tr>\n",
       "      <th>23</th>\n",
       "      <td>TNTin</td>\n",
       "      <td>left</td>\n",
       "      <td>0.395757</td>\n",
       "    </tr>\n",
       "    <tr>\n",
       "      <th>24</th>\n",
       "      <td>TNTin</td>\n",
       "      <td>left</td>\n",
       "      <td>0.368459</td>\n",
       "    </tr>\n",
       "    <tr>\n",
       "      <th>25</th>\n",
       "      <td>TNTin</td>\n",
       "      <td>left</td>\n",
       "      <td>0.372088</td>\n",
       "    </tr>\n",
       "    <tr>\n",
       "      <th>26</th>\n",
       "      <td>TNTin</td>\n",
       "      <td>left</td>\n",
       "      <td>0.354469</td>\n",
       "    </tr>\n",
       "    <tr>\n",
       "      <th>27</th>\n",
       "      <td>TNTin</td>\n",
       "      <td>left</td>\n",
       "      <td>0.182622</td>\n",
       "    </tr>\n",
       "    <tr>\n",
       "      <th>28</th>\n",
       "      <td>TNTin</td>\n",
       "      <td>left</td>\n",
       "      <td>0.124463</td>\n",
       "    </tr>\n",
       "    <tr>\n",
       "      <th>29</th>\n",
       "      <td>TNTin</td>\n",
       "      <td>left</td>\n",
       "      <td>0.383105</td>\n",
       "    </tr>\n",
       "    <tr>\n",
       "      <th>30</th>\n",
       "      <td>TNTin</td>\n",
       "      <td>left</td>\n",
       "      <td>0.245218</td>\n",
       "    </tr>\n",
       "    <tr>\n",
       "      <th>31</th>\n",
       "      <td>TNTin</td>\n",
       "      <td>right</td>\n",
       "      <td>0.319326</td>\n",
       "    </tr>\n",
       "    <tr>\n",
       "      <th>32</th>\n",
       "      <td>TNTin</td>\n",
       "      <td>right</td>\n",
       "      <td>0.611726</td>\n",
       "    </tr>\n",
       "    <tr>\n",
       "      <th>33</th>\n",
       "      <td>TNTin</td>\n",
       "      <td>right</td>\n",
       "      <td>0.650594</td>\n",
       "    </tr>\n",
       "    <tr>\n",
       "      <th>34</th>\n",
       "      <td>TNTin</td>\n",
       "      <td>right</td>\n",
       "      <td>0.734060</td>\n",
       "    </tr>\n",
       "    <tr>\n",
       "      <th>35</th>\n",
       "      <td>TNTin</td>\n",
       "      <td>right</td>\n",
       "      <td>0.451178</td>\n",
       "    </tr>\n",
       "    <tr>\n",
       "      <th>36</th>\n",
       "      <td>TNTin</td>\n",
       "      <td>right</td>\n",
       "      <td>0.853758</td>\n",
       "    </tr>\n",
       "    <tr>\n",
       "      <th>37</th>\n",
       "      <td>TNTin</td>\n",
       "      <td>right</td>\n",
       "      <td>0.280178</td>\n",
       "    </tr>\n",
       "    <tr>\n",
       "      <th>38</th>\n",
       "      <td>TNTin</td>\n",
       "      <td>right</td>\n",
       "      <td>0.538237</td>\n",
       "    </tr>\n",
       "    <tr>\n",
       "      <th>39</th>\n",
       "      <td>TNTin</td>\n",
       "      <td>right</td>\n",
       "      <td>0.342808</td>\n",
       "    </tr>\n",
       "  </tbody>\n",
       "</table>\n",
       "</div>"
      ]
     },
     "metadata": {},
     "execution_count": 58
    }
   ],
   "metadata": {}
  },
  {
   "cell_type": "code",
   "execution_count": 57,
   "source": [
    "gt = 'TNTin'\n",
    "\n",
    "TNTe_index_list = []\n",
    "for i in range(len(single_fly_histogram_counts)):\n",
    "    arr = []\n",
    "    TNTe_index_list.append(arr)\n",
    "#print('wt_angle_list:',wt_angle_list)\n",
    "\n",
    "TNTe_index_array = []\n",
    "\n",
    "\n",
    "percentage_per_bin_per_fly = []\n",
    "for i in range(len(single_fly_histogram_counts)):\n",
    "    arr = []\n",
    "    percentage_per_bin_per_fly.append(arr)\n",
    "print('percentage_per_bin_per_fly:',percentage_per_bin_per_fly)\n",
    "\n",
    "sum_list = []\n",
    "for j in range(len(single_fly_histogram_counts)):\n",
    "    summ = sum(single_fly_histogram_counts[j])\n",
    "    sum_list.append(summ)\n",
    "print('sum_list:',sum_list)\n",
    "    \n",
    "for k in range(len(single_fly_histogram_counts)):\n",
    "    sub_list = single_fly_histogram_counts[k]\n",
    "    for o in range(len(sub_list)):\n",
    "        bin_count = sub_list[o]\n",
    "        percentage = bin_count / sum_list[k]\n",
    "        percentage_per_bin_per_fly[k].append(percentage)\n",
    "\n",
    "#print(percentage_per_bin_per_fly)\n",
    "print('number of flies:', len(percentage_per_bin_per_fly))\n",
    "#print(angle_list_sum_list)\n",
    "#print(percentage_per_bin)\n",
    "\n",
    "\n",
    "for a in range(len(percentage_per_bin_per_fly)):\n",
    "    sub_list = percentage_per_bin_per_fly[a]\n",
    "\n",
    "    bins_of_interest = [sub_list[0], sub_list[35]]\n",
    "    #print(bins_of_interest)\n",
    "    bins_not_of_interest = sub_list\n",
    "# #print(len(bins_not_of_interest))\n",
    "    del bins_not_of_interest[0]\n",
    "    del bins_not_of_interest[34]\n",
    "# # print(bins_not_of_interest)\n",
    "# # print(len(bins_not_of_interest))\n",
    "    APD_right =  (sum(bins_of_interest)/len(bins_of_interest) *10)-(sum(bins_not_of_interest)/len(bins_not_of_interest) *10)\n",
    "# print(sum(bins_of_interest),len(bins_of_interest), sum(bins_not_of_interest), len(bins_not_of_interest))\n",
    "    #print('APD_right:', APD_right)\n",
    "    #TNTe_index_list[a].append(APD_right)\n",
    "    side = 'left'\n",
    "    thing = pd.DataFrame([[gt, side, APD_right]], columns = ['genotype','side','APD'])\n",
    "    pos_triggered_index_df = pos_triggered_index_df.append(thing,ignore_index=True)\n",
    "    print('thing:',thing)\n",
    "    \n",
    "\n",
    "for a in range(len(percentage_per_bin_per_fly)):\n",
    "    sub_list = percentage_per_bin_per_fly[a]\n",
    "\n",
    "    bins_of_interest = [sub_list[16], sub_list[17]]\n",
    "    #print(bins_of_interest)\n",
    "    bins_not_of_interest = sub_list\n",
    "# #print(len(bins_not_of_interest))\n",
    "    del bins_not_of_interest[16]\n",
    "    del bins_not_of_interest[16]\n",
    "# # print(bins_not_of_interest)\n",
    "# # print(len(bins_not_of_interest))\n",
    "    APD_left =  (sum(bins_of_interest)/len(bins_of_interest) *10)-(sum(bins_not_of_interest)/len(bins_not_of_interest) *10)\n",
    "    side = 'right'\n",
    "    other_thing = pd.DataFrame([[gt, side, APD_left]], columns = ['genotype','side','APD'])\n",
    "    pos_triggered_index_df = pos_triggered_index_df.append(other_thing,ignore_index=True)\n",
    "\n"
   ],
   "outputs": [
    {
     "output_type": "stream",
     "name": "stdout",
     "text": [
      "percentage_per_bin_per_fly: [[], [], [], [], [], [], [], [], []]\n",
      "sum_list: [1465.0, 2778.0, 6520.0, 596.0, 5273.0, 1377.0, 2011.0, 4495.0, 1227.0]\n",
      "number of flies: 9\n",
      "thing:   genotype  side       APD\n",
      "0    TNTin  left  0.027505\n",
      "thing:   genotype  side       APD\n",
      "0    TNTin  left  0.395757\n",
      "thing:   genotype  side       APD\n",
      "0    TNTin  left  0.368459\n",
      "thing:   genotype  side       APD\n",
      "0    TNTin  left  0.372088\n",
      "thing:   genotype  side       APD\n",
      "0    TNTin  left  0.354469\n",
      "thing:   genotype  side       APD\n",
      "0    TNTin  left  0.182622\n",
      "thing:   genotype  side       APD\n",
      "0    TNTin  left  0.124463\n",
      "thing:   genotype  side       APD\n",
      "0    TNTin  left  0.383105\n",
      "thing:   genotype  side       APD\n",
      "0    TNTin  left  0.245218\n"
     ]
    }
   ],
   "metadata": {}
  },
  {
   "cell_type": "code",
   "execution_count": 104,
   "source": [
    "colors = [\"#ffaa3b\", \"g\", '#4d4d4d']\n",
    "sns.set_palette(sns.color_palette(colors))\n",
    "\n",
    "fig, ax = plt.subplots(figsize=(11,7))\n",
    "ax = sns.boxplot(x = 'side',y = 'APD', hue = 'genotype', data=pos_triggered_index_df, fliersize=0)\n",
    "ax = sns.swarmplot(x = 'side',y = 'APD', hue = 'genotype', data = pos_triggered_index_df, dodge=True, color=\".2\")\n",
    "ax.tick_params(axis='both', labelsize = 20)\n",
    "plt.ylim(-0.3, 0.9)\n",
    "ax.legend(fontsize=15)\n",
    "\n",
    "ax.set_title('Flies that Triggered Event', fontsize=30)\n",
    "ax.set_ylabel('Fixation Index', fontsize=25)\n",
    "ax.set_xlabel('Fixation Side', fontsize=20)\n",
    "plt.savefig(\"/Users/ambra-stella/bachelor/analysis/plots/fixation_index_positive.pdf\")\n"
   ],
   "outputs": [
    {
     "output_type": "display_data",
     "data": {
      "text/plain": [
       "<Figure size 792x504 with 1 Axes>"
      ],
      "image/png": "[encoded data removed]"
     },
     "metadata": {
      "needs_background": "light"
     }
    }
   ],
   "metadata": {}
  },
  {
   "cell_type": "code",
   "execution_count": 270,
   "source": [
    "colors = [\"#ffaa3b\", \"g\", '#4d4d4d']\n",
    "sns.set_palette(sns.color_palette(colors))\n",
    "\n",
    "fig, ax = plt.subplots(figsize=(11,7))\n",
    "ax = sns.boxplot(x = 'side',y = 'APD', hue = 'genotype', data=neg_triggered_index_df, fliersize=0)\n",
    "ax = sns.swarmplot(x = 'side',y = 'APD', hue = 'genotype', data = neg_triggered_index_df, dodge=True, color=\".2\")\n",
    "ax.tick_params(axis='both', labelsize = 20)\n",
    "plt.ylim(-0.3, 0.9)\n",
    "ax.legend(fontsize=15)\n",
    "ax.set_title('Flies that didnt Trigger Event', fontsize=30)\n",
    "ax.set_ylabel('Fixation Index', fontsize=25)\n",
    "ax.set_xlabel('Fixation Side', fontsize=20)\n",
    "plt.savefig(\"/Users/ambra-stella/bachelor/analysis/plots/fixation_index_negative.pdf\")"
   ],
   "outputs": [
    {
     "output_type": "display_data",
     "data": {
      "text/plain": [
       "<Figure size 792x504 with 1 Axes>"
      ],
      "image/png": "[encoded data removed]"
     },
     "metadata": {
      "needs_background": "light"
     }
    }
   ],
   "metadata": {}
  },
  {
   "cell_type": "code",
   "execution_count": null,
   "source": [],
   "outputs": [],
   "metadata": {}
  },
  {
   "cell_type": "code",
   "execution_count": null,
   "source": [],
   "outputs": [],
   "metadata": {}
  },
  {
   "cell_type": "code",
   "execution_count": null,
   "source": [],
   "outputs": [],
   "metadata": {}
  },
  {
   "cell_type": "code",
   "execution_count": null,
   "source": [],
   "outputs": [],
   "metadata": {}
  },
  {
   "cell_type": "markdown",
   "source": [
    "# creates an index for each group of flies with total count in that direction:"
   ],
   "metadata": {}
  },
  {
   "cell_type": "code",
   "execution_count": 354,
   "source": [
    "#wt_angle_list = []\n",
    "#TNTin_angle_list = []\n",
    "#TNTe_angle_list = []\n",
    "\n",
    "percentage_per_bin = []\n",
    "angle_list_sum_list = []\n",
    "for i in range(len(angle_list)):\n",
    "    angle_list_sum = sum(angle_list[i])\n",
    "    angle_list_sum_list.append(angle_list_sum)\n",
    "    \n",
    "for j in range(len(angle_list_sum_list)):\n",
    "    percentage = angle_list_sum_list[j] / len(use_df)\n",
    "    percentage_per_bin.append(percentage)\n",
    "print(angle_list_sum_list)\n",
    "print(percentage_per_bin)\n",
    "\n",
    "\n",
    "\n",
    "bins_of_interest = [percentage_per_bin[0], percentage_per_bin[35]]\n",
    "# print(bins_of_interest)\n",
    "bins_not_of_interest = percentage_per_bin\n",
    "#print(len(bins_not_of_interest))\n",
    "del bins_not_of_interest[0]\n",
    "del bins_not_of_interest[34]\n",
    "# print(bins_not_of_interest)\n",
    "# print(len(bins_not_of_interest))\n",
    "APD_right =  (sum(bins_of_interest)/len(bins_of_interest) *10)-(sum(bins_not_of_interest)/len(bins_not_of_interest) *10)\n",
    "print(sum(bins_of_interest),len(bins_of_interest), sum(bins_not_of_interest), len(bins_not_of_interest))\n",
    "print('APD_right:', APD_right)\n",
    "pTNTe.append(APD_right)\n",
    "\n",
    "\n",
    "bins_of_interest = [percentage_per_bin[16], percentage_per_bin[17]]\n",
    "# print(bins_of_interest)\n",
    "bins_not_of_interest = percentage_per_bin\n",
    "# print(len(bins_not_of_interest))\n",
    "del bins_not_of_interest[16]\n",
    "del bins_not_of_interest[16]\n",
    "# print(bins_not_of_interest)\n",
    "# print(len(bins_not_of_interest))\n",
    "APD_left =  (sum(bins_of_interest)/len(bins_of_interest) *10)-(sum(bins_not_of_interest)/len(bins_not_of_interest) *10)\n",
    "print('APD_left:', APD_left)\n",
    "pTNTe.append(APD_left)\n",
    "\n",
    "# bins_of_interest = [percentage_per_bin[8], percentage_per_bin[9]]\n",
    "# # print(bins_of_interest)\n",
    "# bins_not_of_interest = percentage_per_bin\n",
    "# # print(len(bins_not_of_interest))\n",
    "# del bins_not_of_interest[8]\n",
    "# del bins_not_of_interest[8]\n",
    "# # print(bins_not_of_interest)\n",
    "# # print(len(bins_not_of_interest))\n",
    "# APD_up =  (sum(bins_of_interest)/len(bins_of_interest) *10)-(sum(bins_not_of_interest)/len(bins_not_of_interest) *10)\n",
    "# print('APD_up:', APD_up)\n",
    "\n",
    "\n",
    "# bins_of_interest = [percentage_per_bin[26], percentage_per_bin[27]]\n",
    "# # print(bins_of_interest)\n",
    "# bins_not_of_interest = percentage_per_bin\n",
    "# # print(len(bins_not_of_interest))\n",
    "# del bins_not_of_interest[26]\n",
    "# del bins_not_of_interest[26]\n",
    "# # print(bins_not_of_interest)\n",
    "# # print(len(bins_not_of_interest))\n",
    "# APD_down =  (sum(bins_of_interest)/(len(bins_of_interest) *10))-(sum(bins_not_of_interest)/(len(bins_not_of_interest) *10))\n",
    "# print('APD_down:', APD_down)\n",
    "# #print(wt)"
   ],
   "outputs": [
    {
     "output_type": "stream",
     "name": "stdout",
     "text": [
      "[2464.0, 2025.0, 1672.0, 1387.0, 1224.0, 1254.0, 1218.0, 1109.0, 1229.0, 1287.0, 1191.0, 1304.0, 1298.0, 1304.0, 1485.0, 1740.0, 2113.0, 2481.0, 2604.0, 2420.0, 1922.0, 1565.0, 1231.0, 1060.0, 1040.0, 1179.0, 1178.0, 1206.0, 1166.0, 1297.0, 1339.0, 1350.0, 1474.0, 1720.0, 2278.0, 2494.0]\n",
      "[0.03152870724622846, 0.02591137669383629, 0.021394479917083594, 0.01774769356758071, 0.015661987690496603, 0.016045859937812695, 0.015585213241033385, 0.014190477409118246, 0.01572596639838262, 0.0164681194098604, 0.0152397282184489, 0.016685647016672852, 0.016608872567209634, 0.016685647016672852, 0.019001676242146614, 0.022264590344333406, 0.027037401952630165, 0.03174623485304091, 0.03332011106703689, 0.03096569461683152, 0.02459341531138437, 0.020025335568322863, 0.015751557881537023, 0.013563486071835293, 0.01330757124029123, 0.015086179319522462, 0.01507338357794526, 0.015431664342106946, 0.014919834679018822, 0.01659607682563243, 0.01713349797187496, 0.017274251129224195, 0.01886092308479738, 0.022008675512789344, 0.02914869931286868, 0.03191257949354455]\n",
      "0.063441286739773 2 0.6570613299893795 34\n",
      "APD_right: 0.12395310134904752\n",
      "APD_left: 0.14033329707873213\n",
      "APD_up: -0.028223140672117647\n",
      "APD_down: -6.521258296667476e-05\n"
     ]
    }
   ],
   "metadata": {}
  },
  {
   "cell_type": "code",
   "execution_count": 352,
   "source": [
    "wt"
   ],
   "outputs": [
    {
     "output_type": "execute_result",
     "data": {
      "text/plain": [
       "[0.07098253822635364, 0.08372013045314686]"
      ]
     },
     "metadata": {},
     "execution_count": 352
    }
   ],
   "metadata": {}
  },
  {
   "cell_type": "markdown",
   "source": [
    "# list of indexes by positive and negative:"
   ],
   "metadata": {}
  },
  {
   "cell_type": "code",
   "execution_count": 257,
   "source": [
    "# negative_fixation_data = []\n",
    "# negative_fixation_data.append(wt)\n",
    "# negative_fixation_data.append(TNTin)\n",
    "# negative_fixation_data.append(TNTe)\n",
    "# negative_fixation_data"
   ],
   "outputs": [
    {
     "output_type": "execute_result",
     "data": {
      "text/plain": [
       "[[0.07098253822635364, 0.08372013045314686],\n",
       " [0.17086946265665337, 0.29312088993803104],\n",
       " [0.0855833671869149, 0.17970287241020105]]"
      ]
     },
     "metadata": {},
     "execution_count": 257
    }
   ],
   "metadata": {}
  },
  {
   "cell_type": "code",
   "execution_count": 295,
   "source": [
    "# positive_fixation_data = []\n",
    "# positive_fixation_data.append(pwt)\n",
    "# positive_fixation_data.append(pTNTin)\n",
    "# positive_fixation_data.append(pTNTe)\n",
    "# positive_fixation_data"
   ],
   "outputs": [
    {
     "output_type": "execute_result",
     "data": {
      "text/plain": [
       "[[0.28461226761998176, 0.32959062962724517],\n",
       " [0.3169002819836659, 0.5362709773910341],\n",
       " [0.12395310134904752, 0.14033329707873213]]"
      ]
     },
     "metadata": {},
     "execution_count": 295
    }
   ],
   "metadata": {}
  },
  {
   "cell_type": "markdown",
   "source": [
    "# plotting indexes:"
   ],
   "metadata": {}
  },
  {
   "cell_type": "code",
   "execution_count": 335,
   "source": [
    "\n",
    "X = np.arange(2)\n",
    "fig = plt.figure()\n",
    "ax = fig.add_axes([0,0,1,1])\n",
    "ax.bar(X + 0.00, negative_fixation_data[0], color = '#ffaa3b',label='wt', width = 0.25)\n",
    "ax.bar(X + 0.25, negative_fixation_data[1], color = 'g',label='TNTin', width = 0.25)\n",
    "ax.bar(X + 0.5, negative_fixation_data[2], color = '#4d4d4d',label='TNTe', width = 0.25)\n",
    "labels = [item.get_text() for item in ax.get_xticklabels()]\n",
    "labels[1] = 'APD right'\n",
    "labels[3] = 'APD left'\n",
    "plt.ylim(0.0, 0.6)\n",
    "ax.legend(fontsize=20)\n",
    "ax.set_title('flies didnt trigger event', fontsize=35)\n",
    "ax.set_ylabel('Fixation index', fontsize=30)\n",
    "\n",
    "plt.text (0, 0.09, '0.071', fontsize=20, ha='center', va='center')\n",
    "plt.text (0.25, 0.19, '0.172', fontsize=20,ha='center', va='center')\n",
    "plt.text (0.5, 0.1, '0.086', fontsize=20, ha='center', va='center')\n",
    "\n",
    "plt.text (1, 0.1, '0.084', fontsize=20, ha='center', va='center')\n",
    "plt.text (1.25, 0.32, '0.293', fontsize=20,ha='center', va='center')\n",
    "plt.text (1.5, 0.2, '0.18', fontsize=20, ha='center', va='center')\n",
    "\n",
    "\n",
    "ax.set_xticklabels(labels)\n",
    "ax.tick_params(axis='both', labelsize = 20)\n",
    "#plt.savefig(\"/Users/ambra-stella/bachelor/analysis/plots/fixation_index_negative.pdf\")"
   ],
   "outputs": [
    {
     "output_type": "stream",
     "name": "stderr",
     "text": [
      "/Users/ambra-stella/opt/anaconda3/envs/flyvenv/lib/python3.7/site-packages/ipykernel_launcher.py:24: UserWarning: FixedFormatter should only be used together with FixedLocator\n"
     ]
    },
    {
     "output_type": "display_data",
     "data": {
      "text/plain": [
       "<Figure size 432x288 with 1 Axes>"
      ],
      "image/png": "[encoded data removed]"
     },
     "metadata": {
      "needs_background": "light"
     }
    }
   ],
   "metadata": {}
  },
  {
   "cell_type": "code",
   "execution_count": 351,
   "source": [
    "X = np.arange(2)\n",
    "fig = plt.figure()\n",
    "ax = fig.add_axes([0,0,1,1])\n",
    "ax.bar(X + 0.00, positive_fixation_data[0], color = '#ffaa3b',label='wt', width = 0.25)\n",
    "ax.bar(X + 0.25, positive_fixation_data[1], color = 'g',label='TNTin', width = 0.25)\n",
    "ax.bar(X + 0.50, positive_fixation_data[2], color = '#4d4d4d',label='TNTe', width = 0.25)\n",
    "labels = [item.get_text() for item in ax.get_xticklabels()]\n",
    "labels[1] = 'APD right bar'\n",
    "labels[3] = 'APD left bar'\n",
    "ax.legend(fontsize=20)\n",
    "ax.set_title('flies triggered event', fontsize=35)\n",
    "ax.set_ylabel('Fixation index', fontsize=30)\n",
    "ax.set_xticklabels(labels)\n",
    "\n",
    "plt.text (0, 0.3, '0.285', fontsize=20, ha='center', va='center')\n",
    "plt.text (0.25, 0.33, '0.317', fontsize=20,ha='center', va='center')\n",
    "plt.text (0.5, 0.14, '0.124', fontsize=20, ha='center', va='center')\n",
    "\n",
    "plt.text (1, 0.35, '0.33', fontsize=20, ha='center', va='center')\n",
    "plt.text (1.25, 0.56, '0.536', fontsize=20,ha='center', va='center')\n",
    "plt.text (1.5, 0.16, '0.140', fontsize=20, ha='center', va='center')\n",
    "\n",
    "ax.tick_params(axis='both', labelsize = 20)\n",
    "plt.ylim(0.0, 0.6)\n",
    "\n",
    "plt.savefig(\"/Users/ambra-stella/bachelor/analysis/plots/fixation_index_positive.pdf\")"
   ],
   "outputs": [
    {
     "output_type": "stream",
     "name": "stderr",
     "text": [
      "/Users/ambra-stella/opt/anaconda3/envs/flyvenv/lib/python3.7/site-packages/ipykernel_launcher.py:13: UserWarning: FixedFormatter should only be used together with FixedLocator\n",
      "  del sys.path[0]\n"
     ]
    },
    {
     "output_type": "display_data",
     "data": {
      "text/plain": [
       "<Figure size 432x288 with 1 Axes>"
      ],
      "image/png": "[encoded data removed]"
     },
     "metadata": {
      "needs_background": "light"
     }
    }
   ],
   "metadata": {}
  },
  {
   "cell_type": "markdown",
   "source": [
    "# swarm plot over boxplot:"
   ],
   "metadata": {}
  },
  {
   "cell_type": "code",
   "execution_count": null,
   "source": [
    "ax = sns.boxplot(x=\"total_bill\", y=\"day\", data=tips, whis=np.inf)\n",
    "ax = sns.swarmplot(x=\"total_bill\", y=\"day\", data=tips, color=\".2\")"
   ],
   "outputs": [],
   "metadata": {}
  },
  {
   "cell_type": "code",
   "execution_count": null,
   "source": [],
   "outputs": [],
   "metadata": {}
  },
  {
   "cell_type": "code",
   "execution_count": null,
   "source": [],
   "outputs": [],
   "metadata": {}
  },
  {
   "cell_type": "code",
   "execution_count": 30,
   "source": [
    "width = 0.5 \n",
    "lables = []\n",
    "for i in range(36):\n",
    "    leer = i\n",
    "    lables.append(i)\n",
    "ax.bar(percentage_per_bin, lables, width, label='', color = ['#ffaa3b'])"
   ],
   "outputs": [
    {
     "output_type": "error",
     "ename": "ValueError",
     "evalue": "shape mismatch: objects cannot be broadcast to a single shape",
     "traceback": [
      "\u001b[0;31m---------------------------------------------------------------------------\u001b[0m",
      "\u001b[0;31mValueError\u001b[0m                                Traceback (most recent call last)",
      "\u001b[0;32m<ipython-input-30-d7e3a1c68b4c>\u001b[0m in \u001b[0;36m<module>\u001b[0;34m\u001b[0m\n\u001b[1;32m      4\u001b[0m     \u001b[0mleer\u001b[0m \u001b[0;34m=\u001b[0m \u001b[0mi\u001b[0m\u001b[0;34m\u001b[0m\u001b[0;34m\u001b[0m\u001b[0m\n\u001b[1;32m      5\u001b[0m     \u001b[0mlables\u001b[0m\u001b[0;34m.\u001b[0m\u001b[0mappend\u001b[0m\u001b[0;34m(\u001b[0m\u001b[0mi\u001b[0m\u001b[0;34m)\u001b[0m\u001b[0;34m\u001b[0m\u001b[0;34m\u001b[0m\u001b[0m\n\u001b[0;32m----> 6\u001b[0;31m \u001b[0max\u001b[0m\u001b[0;34m.\u001b[0m\u001b[0mbar\u001b[0m\u001b[0;34m(\u001b[0m\u001b[0mpercentage_per_bin\u001b[0m\u001b[0;34m,\u001b[0m \u001b[0mlables\u001b[0m\u001b[0;34m,\u001b[0m \u001b[0mwidth\u001b[0m\u001b[0;34m,\u001b[0m \u001b[0mlabel\u001b[0m\u001b[0;34m=\u001b[0m\u001b[0;34m''\u001b[0m\u001b[0;34m,\u001b[0m \u001b[0mcolor\u001b[0m \u001b[0;34m=\u001b[0m \u001b[0;34m[\u001b[0m\u001b[0;34m'#ffaa3b'\u001b[0m\u001b[0;34m]\u001b[0m\u001b[0;34m)\u001b[0m\u001b[0;34m\u001b[0m\u001b[0;34m\u001b[0m\u001b[0m\n\u001b[0m",
      "\u001b[0;32m~/opt/anaconda3/envs/flyvenv/lib/python3.7/site-packages/matplotlib/__init__.py\u001b[0m in \u001b[0;36minner\u001b[0;34m(ax, data, *args, **kwargs)\u001b[0m\n\u001b[1;32m   1359\u001b[0m     \u001b[0;32mdef\u001b[0m \u001b[0minner\u001b[0m\u001b[0;34m(\u001b[0m\u001b[0max\u001b[0m\u001b[0;34m,\u001b[0m \u001b[0;34m*\u001b[0m\u001b[0margs\u001b[0m\u001b[0;34m,\u001b[0m \u001b[0mdata\u001b[0m\u001b[0;34m=\u001b[0m\u001b[0;32mNone\u001b[0m\u001b[0;34m,\u001b[0m \u001b[0;34m**\u001b[0m\u001b[0mkwargs\u001b[0m\u001b[0;34m)\u001b[0m\u001b[0;34m:\u001b[0m\u001b[0;34m\u001b[0m\u001b[0;34m\u001b[0m\u001b[0m\n\u001b[1;32m   1360\u001b[0m         \u001b[0;32mif\u001b[0m \u001b[0mdata\u001b[0m \u001b[0;32mis\u001b[0m \u001b[0;32mNone\u001b[0m\u001b[0;34m:\u001b[0m\u001b[0;34m\u001b[0m\u001b[0;34m\u001b[0m\u001b[0m\n\u001b[0;32m-> 1361\u001b[0;31m             \u001b[0;32mreturn\u001b[0m \u001b[0mfunc\u001b[0m\u001b[0;34m(\u001b[0m\u001b[0max\u001b[0m\u001b[0;34m,\u001b[0m \u001b[0;34m*\u001b[0m\u001b[0mmap\u001b[0m\u001b[0;34m(\u001b[0m\u001b[0msanitize_sequence\u001b[0m\u001b[0;34m,\u001b[0m \u001b[0margs\u001b[0m\u001b[0;34m)\u001b[0m\u001b[0;34m,\u001b[0m \u001b[0;34m**\u001b[0m\u001b[0mkwargs\u001b[0m\u001b[0;34m)\u001b[0m\u001b[0;34m\u001b[0m\u001b[0;34m\u001b[0m\u001b[0m\n\u001b[0m\u001b[1;32m   1362\u001b[0m \u001b[0;34m\u001b[0m\u001b[0m\n\u001b[1;32m   1363\u001b[0m         \u001b[0mbound\u001b[0m \u001b[0;34m=\u001b[0m \u001b[0mnew_sig\u001b[0m\u001b[0;34m.\u001b[0m\u001b[0mbind\u001b[0m\u001b[0;34m(\u001b[0m\u001b[0max\u001b[0m\u001b[0;34m,\u001b[0m \u001b[0;34m*\u001b[0m\u001b[0margs\u001b[0m\u001b[0;34m,\u001b[0m \u001b[0;34m**\u001b[0m\u001b[0mkwargs\u001b[0m\u001b[0;34m)\u001b[0m\u001b[0;34m\u001b[0m\u001b[0;34m\u001b[0m\u001b[0m\n",
      "\u001b[0;32m~/opt/anaconda3/envs/flyvenv/lib/python3.7/site-packages/matplotlib/axes/_axes.py\u001b[0m in \u001b[0;36mbar\u001b[0;34m(self, x, height, width, bottom, align, **kwargs)\u001b[0m\n\u001b[1;32m   2304\u001b[0m         x, height, width, y, linewidth, hatch = np.broadcast_arrays(\n\u001b[1;32m   2305\u001b[0m             \u001b[0;31m# Make args iterable too.\u001b[0m\u001b[0;34m\u001b[0m\u001b[0;34m\u001b[0m\u001b[0;34m\u001b[0m\u001b[0m\n\u001b[0;32m-> 2306\u001b[0;31m             np.atleast_1d(x), height, width, y, linewidth, hatch)\n\u001b[0m\u001b[1;32m   2307\u001b[0m \u001b[0;34m\u001b[0m\u001b[0m\n\u001b[1;32m   2308\u001b[0m         \u001b[0;31m# Now that units have been converted, set the tick locations.\u001b[0m\u001b[0;34m\u001b[0m\u001b[0;34m\u001b[0m\u001b[0;34m\u001b[0m\u001b[0m\n",
      "\u001b[0;32m<__array_function__ internals>\u001b[0m in \u001b[0;36mbroadcast_arrays\u001b[0;34m(*args, **kwargs)\u001b[0m\n",
      "\u001b[0;32m~/opt/anaconda3/envs/flyvenv/lib/python3.7/site-packages/numpy/lib/stride_tricks.py\u001b[0m in \u001b[0;36mbroadcast_arrays\u001b[0;34m(subok, *args)\u001b[0m\n\u001b[1;32m    536\u001b[0m     \u001b[0margs\u001b[0m \u001b[0;34m=\u001b[0m \u001b[0;34m[\u001b[0m\u001b[0mnp\u001b[0m\u001b[0;34m.\u001b[0m\u001b[0marray\u001b[0m\u001b[0;34m(\u001b[0m\u001b[0m_m\u001b[0m\u001b[0;34m,\u001b[0m \u001b[0mcopy\u001b[0m\u001b[0;34m=\u001b[0m\u001b[0;32mFalse\u001b[0m\u001b[0;34m,\u001b[0m \u001b[0msubok\u001b[0m\u001b[0;34m=\u001b[0m\u001b[0msubok\u001b[0m\u001b[0;34m)\u001b[0m \u001b[0;32mfor\u001b[0m \u001b[0m_m\u001b[0m \u001b[0;32min\u001b[0m \u001b[0margs\u001b[0m\u001b[0;34m]\u001b[0m\u001b[0;34m\u001b[0m\u001b[0;34m\u001b[0m\u001b[0m\n\u001b[1;32m    537\u001b[0m \u001b[0;34m\u001b[0m\u001b[0m\n\u001b[0;32m--> 538\u001b[0;31m     \u001b[0mshape\u001b[0m \u001b[0;34m=\u001b[0m \u001b[0m_broadcast_shape\u001b[0m\u001b[0;34m(\u001b[0m\u001b[0;34m*\u001b[0m\u001b[0margs\u001b[0m\u001b[0;34m)\u001b[0m\u001b[0;34m\u001b[0m\u001b[0;34m\u001b[0m\u001b[0m\n\u001b[0m\u001b[1;32m    539\u001b[0m \u001b[0;34m\u001b[0m\u001b[0m\n\u001b[1;32m    540\u001b[0m     \u001b[0;32mif\u001b[0m \u001b[0mall\u001b[0m\u001b[0;34m(\u001b[0m\u001b[0marray\u001b[0m\u001b[0;34m.\u001b[0m\u001b[0mshape\u001b[0m \u001b[0;34m==\u001b[0m \u001b[0mshape\u001b[0m \u001b[0;32mfor\u001b[0m \u001b[0marray\u001b[0m \u001b[0;32min\u001b[0m \u001b[0margs\u001b[0m\u001b[0;34m)\u001b[0m\u001b[0;34m:\u001b[0m\u001b[0;34m\u001b[0m\u001b[0;34m\u001b[0m\u001b[0m\n",
      "\u001b[0;32m~/opt/anaconda3/envs/flyvenv/lib/python3.7/site-packages/numpy/lib/stride_tricks.py\u001b[0m in \u001b[0;36m_broadcast_shape\u001b[0;34m(*args)\u001b[0m\n\u001b[1;32m    418\u001b[0m     \u001b[0;31m# use the old-iterator because np.nditer does not handle size 0 arrays\u001b[0m\u001b[0;34m\u001b[0m\u001b[0;34m\u001b[0m\u001b[0;34m\u001b[0m\u001b[0m\n\u001b[1;32m    419\u001b[0m     \u001b[0;31m# consistently\u001b[0m\u001b[0;34m\u001b[0m\u001b[0;34m\u001b[0m\u001b[0;34m\u001b[0m\u001b[0m\n\u001b[0;32m--> 420\u001b[0;31m     \u001b[0mb\u001b[0m \u001b[0;34m=\u001b[0m \u001b[0mnp\u001b[0m\u001b[0;34m.\u001b[0m\u001b[0mbroadcast\u001b[0m\u001b[0;34m(\u001b[0m\u001b[0;34m*\u001b[0m\u001b[0margs\u001b[0m\u001b[0;34m[\u001b[0m\u001b[0;34m:\u001b[0m\u001b[0;36m32\u001b[0m\u001b[0;34m]\u001b[0m\u001b[0;34m)\u001b[0m\u001b[0;34m\u001b[0m\u001b[0;34m\u001b[0m\u001b[0m\n\u001b[0m\u001b[1;32m    421\u001b[0m     \u001b[0;31m# unfortunately, it cannot handle 32 or more arguments directly\u001b[0m\u001b[0;34m\u001b[0m\u001b[0;34m\u001b[0m\u001b[0;34m\u001b[0m\u001b[0m\n\u001b[1;32m    422\u001b[0m     \u001b[0;32mfor\u001b[0m \u001b[0mpos\u001b[0m \u001b[0;32min\u001b[0m \u001b[0mrange\u001b[0m\u001b[0;34m(\u001b[0m\u001b[0;36m32\u001b[0m\u001b[0;34m,\u001b[0m \u001b[0mlen\u001b[0m\u001b[0;34m(\u001b[0m\u001b[0margs\u001b[0m\u001b[0;34m)\u001b[0m\u001b[0;34m,\u001b[0m \u001b[0;36m31\u001b[0m\u001b[0;34m)\u001b[0m\u001b[0;34m:\u001b[0m\u001b[0;34m\u001b[0m\u001b[0;34m\u001b[0m\u001b[0m\n",
      "\u001b[0;31mValueError\u001b[0m: shape mismatch: objects cannot be broadcast to a single shape"
     ]
    }
   ],
   "metadata": {}
  },
  {
   "cell_type": "code",
   "execution_count": 504,
   "source": [
    "labels = ['APD_right', 'APD_left', 'APD_up','APD_down']\n",
    "same_direction = (APD_right, APD_left, APD_up, APD_down)\n",
    "#different_direction = [0.2, 0.3, 0.8]\n",
    "width = 0.5       # the width of the bars: can also be len(x) sequence\n",
    "\n",
    "fig, ax = plt.subplots(figsize=(11,7))\n",
    "\n",
    "ax.bar(labels, same_direction, width, label='', color = ['#ffaa3b'])\n",
    "#ax.bar(labels, different_direction, width, bottom=same_direction,\n",
    "       #label='different direction')\n",
    "\n",
    "ax.set_ylabel('', fontsize=30)\n",
    "\n",
    "#ax.set_xlabel(fontsize=12)\n",
    "plt.ylim(-0.1, 0.5)\n",
    "# plt.text (0, 18, '15.79%', fontsize=20, ha='center', va='center')\n",
    "# plt.text (1, 49, '46.43%', fontsize=20,ha='center', va='center')\n",
    "# plt.text (2, 32, '29.27%', fontsize=20, ha='center', va='center')\n",
    "ax.set_title('ADP for TNTe,  no distractor', fontsize=30)\n",
    "ax.legend(fontsize=20)\n",
    "ax.tick_params(axis='both', labelsize = 20)\n",
    "#plt.savefig(\"/Users/ambra-stella/bachelor/analysis/plots/TNTe_ADP_big_summary_negative.pdf\")"
   ],
   "outputs": [
    {
     "output_type": "stream",
     "name": "stderr",
     "text": [
      "No handles with labels found to put in legend.\n"
     ]
    },
    {
     "output_type": "display_data",
     "data": {
      "text/plain": [
       "<Figure size 792x504 with 1 Axes>"
      ],
      "image/png": "[encoded data removed]"
     },
     "metadata": {
      "needs_background": "light"
     }
    }
   ],
   "metadata": {}
  },
  {
   "cell_type": "markdown",
   "source": [
    "# max artifact searcher:"
   ],
   "metadata": {}
  },
  {
   "cell_type": "code",
   "execution_count": 177,
   "source": [
    "maxi_objects = []\n",
    "for i in range(len(angle_list)):\n",
    "    liste_in_liste = angle_list[i]\n",
    "    #print(liste_in_liste)\n",
    "    try:\n",
    "        maxi = max(liste_in_liste)\n",
    "        maxi_objects.append(maxi)\n",
    "    except:\n",
    "        pass\n",
    "    #print(maxi)\n",
    "    #maxi_objects.append(maxi)\n",
    "    #print(maxi_objects)    \n",
    "  \n",
    "    # for j in range(len(liste_in_liste)):\n",
    "    #     objecte = liste_in_liste[j]\n",
    "    #     objecte = int(objecte)\n",
    "        #print('object number:',j, ' in array:',i, objecte)\n",
    "        #print(type(objecte))\n",
    "        \n",
    "print(maxi_objects)\n",
    "print(len(maxi_objects))\n",
    "\n",
    "#print('lenght:',len(maxi))"
   ],
   "outputs": [
    {
     "output_type": "stream",
     "name": "stdout",
     "text": [
      "[1309.0, 1207.0, 1086.0, 926.0, 865.0, 714.0, 753.0, 674.0, 593.0, 569.0, 514.0, 492.0, 500.0, 522.0, 521.0, 469.0, 465.0, 456.0, 459.0, 501.0, 766.0, 1107.0, 1573.0, 2150.0, 2214.0, 1658.0, 1864.0, 1904.0, 1641.0, 1140.0, 682.0, 534.0, 542.0, 500.0, 490.0, 485.0, 441.0, 433.0, 448.0, 489.0, 495.0, 508.0, 560.0, 609.0, 738.0, 893.0, 1255.0, 1673.0, 1888.0, 1497.0]\n",
      "50\n"
     ]
    }
   ],
   "metadata": {}
  },
  {
   "cell_type": "code",
   "execution_count": 178,
   "source": [
    "fly_position_in_list = []\n",
    "for flies in range(len(single_fly_histogram_counts)):\n",
    "    print('array number:', flies)\n",
    "    arrays_in_array = single_fly_histogram_counts[flies]\n",
    "    #print(arrays_in_array)\n",
    "    mini_list = []\n",
    "    print(list_flies[flies])\n",
    "    \n",
    "    for angle in range(len(arrays_in_array)):\n",
    "        #print('position:',objects)\n",
    "        if arrays_in_array[angle] == maxi_objects[angle]:\n",
    "            print('angle_number:', angle)\n",
    "            print('value of interest:', maxi_objects[angle])\n",
    "            mini_list.append(flies)\n",
    "        else:\n",
    "            pass \n",
    "            \n",
    "    fly_position_in_list.append(mini_list)\n",
    "print(fly_position_in_list)\n",
    "print(len(fly_position_in_list))"
   ],
   "outputs": [
    {
     "output_type": "stream",
     "name": "stdout",
     "text": [
      "array number: 0\n",
      "20210617_161252\n",
      "array number: 1\n",
      "20210629_164435\n",
      "array number: 2\n",
      "20210630_135219\n",
      "array number: 3\n",
      "20210617_124459\n",
      "array number: 4\n",
      "20210701_155119\n",
      "angle_number: 0\n",
      "value of interest: 1309.0\n",
      "angle_number: 1\n",
      "value of interest: 1207.0\n",
      "angle_number: 2\n",
      "value of interest: 1086.0\n",
      "angle_number: 3\n",
      "value of interest: 926.0\n",
      "angle_number: 4\n",
      "value of interest: 865.0\n",
      "angle_number: 5\n",
      "value of interest: 714.0\n",
      "angle_number: 6\n",
      "value of interest: 753.0\n",
      "angle_number: 7\n",
      "value of interest: 674.0\n",
      "angle_number: 8\n",
      "value of interest: 593.0\n",
      "angle_number: 9\n",
      "value of interest: 569.0\n",
      "angle_number: 10\n",
      "value of interest: 514.0\n",
      "angle_number: 26\n",
      "value of interest: 1864.0\n",
      "angle_number: 27\n",
      "value of interest: 1904.0\n",
      "angle_number: 28\n",
      "value of interest: 1641.0\n",
      "angle_number: 29\n",
      "value of interest: 1140.0\n",
      "angle_number: 30\n",
      "value of interest: 682.0\n",
      "angle_number: 41\n",
      "value of interest: 508.0\n",
      "array number: 5\n",
      "20210701_135110\n",
      "angle_number: 11\n",
      "value of interest: 492.0\n",
      "angle_number: 12\n",
      "value of interest: 500.0\n",
      "angle_number: 13\n",
      "value of interest: 522.0\n",
      "angle_number: 14\n",
      "value of interest: 521.0\n",
      "angle_number: 15\n",
      "value of interest: 469.0\n",
      "angle_number: 16\n",
      "value of interest: 465.0\n",
      "angle_number: 17\n",
      "value of interest: 456.0\n",
      "angle_number: 18\n",
      "value of interest: 459.0\n",
      "angle_number: 31\n",
      "value of interest: 534.0\n",
      "angle_number: 32\n",
      "value of interest: 542.0\n",
      "angle_number: 33\n",
      "value of interest: 500.0\n",
      "angle_number: 34\n",
      "value of interest: 490.0\n",
      "angle_number: 35\n",
      "value of interest: 485.0\n",
      "angle_number: 36\n",
      "value of interest: 441.0\n",
      "angle_number: 38\n",
      "value of interest: 448.0\n",
      "angle_number: 39\n",
      "value of interest: 489.0\n",
      "angle_number: 40\n",
      "value of interest: 495.0\n",
      "array number: 6\n",
      "20210618_133500\n",
      "array number: 7\n",
      "20210621_155410\n",
      "angle_number: 21\n",
      "value of interest: 1107.0\n",
      "angle_number: 37\n",
      "value of interest: 433.0\n",
      "angle_number: 42\n",
      "value of interest: 560.0\n",
      "angle_number: 43\n",
      "value of interest: 609.0\n",
      "angle_number: 44\n",
      "value of interest: 738.0\n",
      "array number: 8\n",
      "20210629_155143\n",
      "array number: 9\n",
      "20210628_131821\n",
      "array number: 10\n",
      "20210621_152004\n",
      "array number: 11\n",
      "20210628_132739\n",
      "array number: 12\n",
      "20210617_134018\n",
      "angle_number: 19\n",
      "value of interest: 501.0\n",
      "angle_number: 20\n",
      "value of interest: 766.0\n",
      "angle_number: 22\n",
      "value of interest: 1573.0\n",
      "angle_number: 23\n",
      "value of interest: 2150.0\n",
      "angle_number: 24\n",
      "value of interest: 2214.0\n",
      "angle_number: 25\n",
      "value of interest: 1658.0\n",
      "angle_number: 45\n",
      "value of interest: 893.0\n",
      "angle_number: 46\n",
      "value of interest: 1255.0\n",
      "angle_number: 47\n",
      "value of interest: 1673.0\n",
      "angle_number: 48\n",
      "value of interest: 1888.0\n",
      "angle_number: 49\n",
      "value of interest: 1497.0\n",
      "[[], [], [], [], [4, 4, 4, 4, 4, 4, 4, 4, 4, 4, 4, 4, 4, 4, 4, 4, 4], [5, 5, 5, 5, 5, 5, 5, 5, 5, 5, 5, 5, 5, 5, 5, 5, 5], [], [7, 7, 7, 7, 7], [], [], [], [], [12, 12, 12, 12, 12, 12, 12, 12, 12, 12, 12]]\n",
      "13\n"
     ]
    }
   ],
   "metadata": {}
  },
  {
   "cell_type": "code",
   "execution_count": null,
   "source": [],
   "outputs": [],
   "metadata": {}
  },
  {
   "cell_type": "code",
   "execution_count": null,
   "source": [],
   "outputs": [],
   "metadata": {}
  },
  {
   "cell_type": "code",
   "execution_count": null,
   "source": [],
   "outputs": [],
   "metadata": {}
  },
  {
   "cell_type": "code",
   "execution_count": 57,
   "source": [
    "use_df = df[:1000]\n",
    "\n",
    "list_flies = use_df['fly_number'].tolist()\n",
    "list_flies = set(list_flies)\n",
    "list_flies = list(list_flies)\n",
    "print('flies:', list_flies)\n",
    "print('Number of flies:', len(list_flies))\n",
    "\n",
    "\n",
    " ### defines fixiation bereiche ### \n",
    "fix_right_rad = 0.479965\n",
    "fix_right_rad = float(fix_right_rad)\n",
    "#print('fix_right_rad:', fix_right_rad)\n",
    "fix_left_rad =  2.661627\n",
    "fix_left_rad = float(fix_left_rad)\n",
    "#print('fix_left_rad:', fix_left_rad)\n",
    "\n",
    "\n",
    "for flies in list_flies:\n",
    "        fly = use_df[use_df.fly_number == flies]\n",
    "        #print(fly[:5])\n",
    "        chunk_count= 0\n",
    "        \n",
    "        if fly.empty:\n",
    "                pass\n",
    "        else:\n",
    "                chunk_vectors = []\n",
    "                print('fly at:', flies)\n",
    "                for chunk in np.array_split(fly, len(fly)//30):\n",
    "                        #print('chunk at:', chunk_count)\n",
    "                        chunk_count = chunk_count +1\n",
    "                        #print('chunk at:', chunk_count)\n",
    "                        coord = chunk[['x', 'y']]\n",
    "                        #print('coords:', coord[:5])\n",
    "                        coord = coord.to_numpy()\n",
    "                        #print('coords after array:', coord[:5])\n",
    "                        #print('yes')\n",
    "                        #print('chunk length:', len(chunk))\n",
    "        #print('number of chunks:', chunk_count)\n",
    "                        \n",
    "                        vectors = []\n",
    "                        #### create vetores ### \n",
    "                        for i in range(len(coord)):\n",
    "                                #print(i)\n",
    "                                first = coord[[i]]\n",
    "                                second = coord[i+1:i+2]\n",
    "                                \n",
    "                                # print(i,'first:', first)\n",
    "                                # print(i,'second:', second)\n",
    "                                \n",
    "                                vector = second - first\n",
    "                                vectors.append(vector)\n",
    "                                \n",
    "                                #print (vector)\n",
    "                                \n",
    "                        #print(vectors)\n",
    "                        \n",
    "                        chunk_vector_fly = [sum(x) for x in vectors]\n",
    "                        chunk_vector_fly = np.array(chunk_vector_fly)\n",
    "                        \n",
    "                        # print('chunk vector:', chunk_vector_fly)\n",
    "                        # print('type chunk vector:', type(chunk_vector_fly))\n",
    "                        \n",
    "                        chunk_vector_fly = sum(chunk_vector_fly)\n",
    "                        # print('chunk vector:', chunk_vector_fly)\n",
    "                        # print('type chunk vector:', type(chunk_vector_fly))\n",
    "                        \n",
    "                        chunk_vectors.append(chunk_vector_fly)\n",
    "                print(chunk_vectors)\n",
    "                #print(type(len(chunk_vectors)))\n",
    "                \n",
    "                chunk_vectors = np.array(chunk_vectors)\n",
    "                print('chunk vector lenth:', len(chunk_vectors))\n",
    "                print('try out',chunk_vectors[:,1])\n",
    "                #print('chunk veto'type(len(chunk_vectors)))\n",
    "                \n",
    "                test = len(chunk_vectors)\n",
    "                \n",
    "                for x in chunk_vectors[:,0]:\n",
    "                        x = x\n",
    "                        \n",
    "                for y in chunk_vectors[:,1]:\n",
    "                        y = y\n",
    "                \n",
    "                arr = np.zeros((1,test))\n",
    "                tail = [0,0]\n",
    "                fig, ax = plt.subplots(1)\n",
    "                ax.quiver(*tail,\n",
    "                        x,\n",
    "                        y,\n",
    "                        scale=0.1,\n",
    "                        color=['g', 'r', 'k'])\n",
    " \n",
    "                #ax.set_xlim((-1, chunk_vectors[:,0].max()+1))\n",
    "                #ax.set_ylim((-1, chunk_vectors[:,1].max()+1))\n",
    "                \n",
    "                \n",
    "                \n",
    "                \n",
    "                #         if last_bar_angle > 0: #POSITIV\n",
    "                #                 if chunk_angle < right_rad: #SMALLER\n",
    "                #                         #print('right')\n",
    "                #                         clipped_reaction.loc[(clipped_reaction.timing == 'after') & (clipped_reaction.distraction_index == index) & (clipped_reaction.fly_number == flies), 'reaction_direction'] = 'right'\n",
    "                #                         break\n",
    "                     \n",
    "                #                 elif chunk_angle > left_rad: #BIGGER\n",
    "                #                         #print('left')\n",
    "                #                         clipped_reaction.loc[(clipped_reaction.timing == 'after') & (clipped_reaction.distraction_index == index) & (clipped_reaction.fly_number == flies), 'reaction_direction'] = 'left'\n",
    "                #                         break\n",
    "                \n",
    "                #         elif last_bar_angle < 0: #NEGATIV\n",
    "                #                 if chunk_angle > left_rad: #BIGGER\n",
    "                #                         #print('right')\n",
    "                #                         clipped_reaction.loc[(clipped_reaction.timing == 'after') & (clipped_reaction.distraction_index == index) & (clipped_reaction.fly_number == flies), 'reaction_direction'] = 'right'\n",
    "                #                         break\n",
    "                #                 elif chunk_angle < right_rad: #SMALLER\n",
    "                #                         #print('left')\n",
    "                #                         clipped_reaction.loc[(clipped_reaction.timing == 'after') & (clipped_reaction.distraction_index == index) & (clipped_reaction.fly_number == flies), 'reaction_direction'] = 'left'\n",
    "                #                         break\n",
    "                #         else:\n",
    "                                #print('no decition')\n",
    "                                #clipped_reaction.loc[(clipped_reaction.timing == 'after') & (clipped_reaction.distraction_index == index) & (clipped_reaction.fly_number == flies), 'reaction_direction'] = 'other'"
   ],
   "outputs": [
    {
     "output_type": "stream",
     "name": "stdout",
     "text": [
      "flies: ['20210622_155754']\n",
      "Number of flies: 1\n",
      "fly at: 20210622_155754\n",
      "[array([-0.03230346,  0.00711297]), array([-0.0363414 ,  0.01111549]), array([ 0.02387899, -0.01374247]), array([ 0.01895701, -0.0143022 ]), array([0.00748488, 0.02445095]), array([-0.02731948,  0.02406146]), array([-0.0234288 , -0.01878369]), array([-0.014843  ,  0.03088862]), array([0.00896009, 0.03569234]), array([0.02371124, 0.01860712]), array([0.03234347, 0.00998252]), array([ 0.0275661 , -0.00322674]), array([-0.00145208, -0.03087465]), array([-0.02650198, -0.02479411]), array([-0.03110529, -0.00944285]), array([-0.02449987, -0.01371852]), array([-0.01309949, -0.01735751]), array([ 0.01920272, -0.02681939]), array([ 0.01841197, -0.01527217]), array([ 0.01807871, -0.0133873 ]), array([ 0.02632458, -0.00025255]), array([0.0128547, 0.0048705]), array([-0.00087163,  0.0353672 ]), array([-0.02238521,  0.01695946]), array([-0.03242024,  0.01324605]), array([-0.02143084,  0.01284518]), array([-0.0087783 ,  0.01286587]), array([0.00731632, 0.0209285 ]), array([0.02367568, 0.02096936]), array([0.02218782, 0.01383431]), array([0.03383104, 0.00027491]), array([ 0.01191106, -0.02115146]), array([-0.01133619, -0.0359522 ])]\n",
      "chunk vector lenth: 33\n",
      "try out [ 0.00711297  0.01111549 -0.01374247 -0.0143022   0.02445095  0.02406146\n",
      " -0.01878369  0.03088862  0.03569234  0.01860712  0.00998252 -0.00322674\n",
      " -0.03087465 -0.02479411 -0.00944285 -0.01371852 -0.01735751 -0.02681939\n",
      " -0.01527217 -0.0133873  -0.00025255  0.0048705   0.0353672   0.01695946\n",
      "  0.01324605  0.01284518  0.01286587  0.0209285   0.02096936  0.01383431\n",
      "  0.00027491 -0.02115146 -0.0359522 ]\n"
     ]
    },
    {
     "output_type": "stream",
     "name": "stderr",
     "text": [
      "/Users/ambra-stella/opt/anaconda3/envs/flyvenv/lib/python3.7/site-packages/ipykernel_launcher.py:59: VisibleDeprecationWarning: Creating an ndarray from ragged nested sequences (which is a list-or-tuple of lists-or-tuples-or ndarrays with different lengths or shapes) is deprecated. If you meant to do this, you must specify 'dtype=object' when creating the ndarray.\n"
     ]
    },
    {
     "output_type": "display_data",
     "data": {
      "text/plain": [
       "<Figure size 432x288 with 1 Axes>"
      ],
      "image/png": "[encoded data removed]"
     },
     "metadata": {
      "needs_background": "light"
     }
    }
   ],
   "metadata": {}
  },
  {
   "cell_type": "code",
   "execution_count": 8,
   "source": [
    "test = 33\n",
    "np.array((test, np.zeros((2,)) ) )"
   ],
   "outputs": [
    {
     "output_type": "stream",
     "name": "stderr",
     "text": [
      "/Users/ambra-stella/opt/anaconda3/envs/flyvenv/lib/python3.7/site-packages/ipykernel_launcher.py:2: VisibleDeprecationWarning: Creating an ndarray from ragged nested sequences (which is a list-or-tuple of lists-or-tuples-or ndarrays with different lengths or shapes) is deprecated. If you meant to do this, you must specify 'dtype=object' when creating the ndarray.\n",
      "  \n"
     ]
    },
    {
     "output_type": "execute_result",
     "data": {
      "text/plain": [
       "array([33, array([0., 0.])], dtype=object)"
      ]
     },
     "metadata": {},
     "execution_count": 8
    }
   ],
   "metadata": {}
  },
  {
   "cell_type": "code",
   "execution_count": 17,
   "source": [
    "test = 33\n",
    "arr = np.zeros((2,))\n",
    "zero_array_list =[]\n",
    "for numbers in range(test):\n",
    "    arr = np.empty((2,))\n",
    "    zero_array_list.append(arr)\n",
    "#print('list:', zero_array_list)\n",
    "zero_array = np.array(zero_array_list)\n",
    "zero_array"
   ],
   "outputs": [
    {
     "output_type": "stream",
     "name": "stdout",
     "text": [
      "list: [array([0., 0.]), array([0., 0.]), array([0., 0.]), array([0., 0.]), array([0., 0.]), array([0., 0.]), array([0., 0.]), array([0., 0.]), array([0., 0.]), array([0., 0.]), array([0., 0.]), array([0., 0.]), array([0., 0.]), array([0., 0.]), array([0., 0.]), array([0., 0.]), array([0., 0.]), array([0., 0.]), array([0., 0.]), array([0., 0.]), array([0., 0.]), array([0., 0.]), array([0., 0.]), array([0., 0.]), array([0., 0.]), array([0., 0.]), array([0., 0.]), array([0., 0.]), array([0., 0.]), array([0., 0.]), array([0., 0.]), array([0., 0.]), array([0., 0.])]\n"
     ]
    },
    {
     "output_type": "execute_result",
     "data": {
      "text/plain": [
       "array([[0., 0.],\n",
       "       [0., 0.],\n",
       "       [0., 0.],\n",
       "       [0., 0.],\n",
       "       [0., 0.],\n",
       "       [0., 0.],\n",
       "       [0., 0.],\n",
       "       [0., 0.],\n",
       "       [0., 0.],\n",
       "       [0., 0.],\n",
       "       [0., 0.],\n",
       "       [0., 0.],\n",
       "       [0., 0.],\n",
       "       [0., 0.],\n",
       "       [0., 0.],\n",
       "       [0., 0.],\n",
       "       [0., 0.],\n",
       "       [0., 0.],\n",
       "       [0., 0.],\n",
       "       [0., 0.],\n",
       "       [0., 0.],\n",
       "       [0., 0.],\n",
       "       [0., 0.],\n",
       "       [0., 0.],\n",
       "       [0., 0.],\n",
       "       [0., 0.],\n",
       "       [0., 0.],\n",
       "       [0., 0.],\n",
       "       [0., 0.],\n",
       "       [0., 0.],\n",
       "       [0., 0.],\n",
       "       [0., 0.],\n",
       "       [0., 0.]])"
      ]
     },
     "metadata": {},
     "execution_count": 17
    }
   ],
   "metadata": {}
  },
  {
   "cell_type": "code",
   "execution_count": 33,
   "source": [
    "np.zeros((1,33))"
   ],
   "outputs": [
    {
     "output_type": "execute_result",
     "data": {
      "text/plain": [
       "array([[0., 0., 0., 0., 0., 0., 0., 0., 0., 0., 0., 0., 0., 0., 0., 0.,\n",
       "        0., 0., 0., 0., 0., 0., 0., 0., 0., 0., 0., 0., 0., 0., 0., 0.,\n",
       "        0.]])"
      ]
     },
     "metadata": {},
     "execution_count": 33
    }
   ],
   "metadata": {}
  },
  {
   "cell_type": "code",
   "execution_count": null,
   "source": [],
   "outputs": [],
   "metadata": {}
  },
  {
   "cell_type": "code",
   "execution_count": null,
   "source": [],
   "outputs": [],
   "metadata": {}
  }
 ],
 "metadata": {
  "orig_nbformat": 4,
  "language_info": {
   "name": "python",
   "version": "3.7.10",
   "mimetype": "text/x-python",
   "codemirror_mode": {
    "name": "ipython",
    "version": 3
   },
   "pygments_lexer": "ipython3",
   "nbconvert_exporter": "python",
   "file_extension": ".py"
  },
  "kernelspec": {
   "name": "python3",
   "display_name": "Python 3.7.10 64-bit ('flyvenv': conda)"
  },
  "interpreter": {
   "hash": "35123d64644114ffcbc8c704b34b7b300f937d79f11c925afea674ff16c3be34"
  }
 },
 "nbformat": 4,
 "nbformat_minor": 2
}