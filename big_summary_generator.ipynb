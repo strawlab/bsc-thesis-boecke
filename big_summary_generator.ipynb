{
 "cells": [
  {
   "cell_type": "code",
   "execution_count": 2,
   "source": [
    "import pandas as pd\n",
    "import numpy as np\n",
    "import matplotlib.pyplot as plt\n",
    "from flydance.io.smart_loader import FlyData\n",
    "from flydance.vr.neuser import NeuserParams\n",
    "from flydance.vr.neuser import FollowBarWatch\n",
    "import sys\n",
    "import os\n",
    "sys.path.append(\"/Users/ambra-stella/flydance/experiments\")"
   ],
   "outputs": [],
   "metadata": {}
  },
  {
   "cell_type": "markdown",
   "source": [
    "# Make a list with all the filenames in a folder: "
   ],
   "metadata": {}
  },
  {
   "cell_type": "code",
   "execution_count": 37,
   "source": [
    "path = '/Users/ambra-stella/bachelor/analysis/wt/raw/positive'   # SPECIFY FOLDER HERE\n",
    "\n",
    "folder = os.fsencode(path)\n",
    "\n",
    "filenames = []\n",
    "\n",
    "for file in os.listdir(folder):\n",
    "    filename = os.fsdecode(file)\n",
    "    if filename.endswith( ('.csv') ): \n",
    "        filenames.append(os.path.join(path, filename))\n",
    "\n",
    "filenames.sort()"
   ],
   "outputs": [],
   "metadata": {}
  },
  {
   "cell_type": "code",
   "execution_count": 38,
   "source": [
    "filenames"
   ],
   "outputs": [
    {
     "output_type": "execute_result",
     "data": {
      "text/plain": [
       "['/Users/ambra-stella/bachelor/analysis/wt/raw/positive/smart_load20210615_160518.csv',\n",
       " '/Users/ambra-stella/bachelor/analysis/wt/raw/positive/smart_load20210615_163947.csv',\n",
       " '/Users/ambra-stella/bachelor/analysis/wt/raw/positive/smart_load20210615_183832.csv',\n",
       " '/Users/ambra-stella/bachelor/analysis/wt/raw/positive/smart_load20210616_151740.csv',\n",
       " '/Users/ambra-stella/bachelor/analysis/wt/raw/positive/smart_load20210618_144402.csv',\n",
       " '/Users/ambra-stella/bachelor/analysis/wt/raw/positive/smart_load20210621_144554.csv',\n",
       " '/Users/ambra-stella/bachelor/analysis/wt/raw/positive/smart_load20210623_124454.csv',\n",
       " '/Users/ambra-stella/bachelor/analysis/wt/raw/positive/smart_load20210628_173232.csv',\n",
       " '/Users/ambra-stella/bachelor/analysis/wt/raw/positive/smart_load20210629_172133.csv']"
      ]
     },
     "metadata": {},
     "execution_count": 38
    }
   ],
   "metadata": {}
  },
  {
   "cell_type": "markdown",
   "source": [
    "# Create empty csv file with header where stuff will be stored:"
   ],
   "metadata": {}
  },
  {
   "cell_type": "code",
   "execution_count": 39,
   "source": [
    "big_summary = pd.DataFrame(columns=['frame', 'timestamp', 'x', 'y', 'xvel', 'yvel', 't',\n",
    "       'x_px', 'y_px', 'orientation_radians_mod_pi', 'contrast',\n",
    "       'luminance', 'center_x', 'center_y','fly_number', 'walking_angle', 'speed'])\n",
    "#big_summary.to_csv(\"/Users/ambra-stella/bachelor/analysis/wt/big_summary_positive_until_distractor.csv\", header=True, index=False)  #SPECIFY WHERE THIS FILE WILL BE SAVED"
   ],
   "outputs": [],
   "metadata": {}
  },
  {
   "cell_type": "markdown",
   "source": [
    "# Do something with each of those files and add them to csv file:"
   ],
   "metadata": {}
  },
  {
   "cell_type": "code",
   "execution_count": 28,
   "source": [
    "usecols = ['frame', 'timestamp', 'x', 'y', 'xvel', 'yvel', 't',\n",
    "       'x_px', 'y_px', 'orientation_radians_mod_pi', 'contrast',\n",
    "       'luminance', 'center_x', 'center_y']\n",
    "\n",
    "for files in filenames:\n",
    "       try:\n",
    "              df = pd.read_csv(files, usecols  = usecols, low_memory=False)\n",
    "       except ValueError:\n",
    "              pass\n",
    "    \n",
    "       summary = df.loc[df.contrast == 2].copy()\n",
    "       #summary['distraction_index'] = np.arange(len(summary))\n",
    "       #print(dist_points)\n",
    "       filename= os.path.basename(files)\n",
    "       filename = filename[10:-4]\n",
    "       print(filename)\n",
    "       summary['fly_number'] = filename\n",
    "       \n",
    "       summary['walking_angle'] = np.arctan2(df.yvel, df.xvel)\n",
    "       \n",
    "       summary['speed'] = np.sqrt((summary.xvel)**2+(summary.yvel)**2) \n",
    "       summary.stopped = summary.speed <= 0.01\n",
    "       summary = summary.loc[summary.stopped != 1]\n",
    "       \n",
    "       \n",
    "       \n",
    "       #print (summary[:5])\n",
    "       \n",
    "       #summary.to_csv(\"/Users/ambra-stella/bachelor/analysis/TNTe/big_summary_negative.csv\", mode = 'a', header=False, index=False) #SPECIFY WHERE IT IS SAVED!!\n"
   ],
   "outputs": [
    {
     "output_type": "stream",
     "name": "stdout",
     "text": [
      "20210622_155754\n"
     ]
    },
    {
     "output_type": "stream",
     "name": "stderr",
     "text": [
      "/Users/ambra-stella/opt/anaconda3/envs/flyvenv/lib/python3.7/site-packages/ipykernel_launcher.py:22: UserWarning: Pandas doesn't allow columns to be created via a new attribute name - see https://pandas.pydata.org/pandas-docs/stable/indexing.html#attribute-access\n"
     ]
    },
    {
     "output_type": "stream",
     "name": "stdout",
     "text": [
      "20210622_170514\n"
     ]
    },
    {
     "output_type": "stream",
     "name": "stderr",
     "text": [
      "/Users/ambra-stella/opt/anaconda3/envs/flyvenv/lib/python3.7/site-packages/ipykernel_launcher.py:22: UserWarning: Pandas doesn't allow columns to be created via a new attribute name - see https://pandas.pydata.org/pandas-docs/stable/indexing.html#attribute-access\n"
     ]
    },
    {
     "output_type": "stream",
     "name": "stdout",
     "text": [
      "20210623_131714\n"
     ]
    },
    {
     "output_type": "stream",
     "name": "stderr",
     "text": [
      "/Users/ambra-stella/opt/anaconda3/envs/flyvenv/lib/python3.7/site-packages/ipykernel_launcher.py:22: UserWarning: Pandas doesn't allow columns to be created via a new attribute name - see https://pandas.pydata.org/pandas-docs/stable/indexing.html#attribute-access\n"
     ]
    },
    {
     "output_type": "stream",
     "name": "stdout",
     "text": [
      "20210623_142311\n"
     ]
    },
    {
     "output_type": "stream",
     "name": "stderr",
     "text": [
      "/Users/ambra-stella/opt/anaconda3/envs/flyvenv/lib/python3.7/site-packages/ipykernel_launcher.py:22: UserWarning: Pandas doesn't allow columns to be created via a new attribute name - see https://pandas.pydata.org/pandas-docs/stable/indexing.html#attribute-access\n"
     ]
    },
    {
     "output_type": "stream",
     "name": "stdout",
     "text": [
      "20210623_144411\n"
     ]
    },
    {
     "output_type": "stream",
     "name": "stderr",
     "text": [
      "/Users/ambra-stella/opt/anaconda3/envs/flyvenv/lib/python3.7/site-packages/ipykernel_launcher.py:22: UserWarning: Pandas doesn't allow columns to be created via a new attribute name - see https://pandas.pydata.org/pandas-docs/stable/indexing.html#attribute-access\n"
     ]
    },
    {
     "output_type": "stream",
     "name": "stdout",
     "text": [
      "20210624_122610\n"
     ]
    },
    {
     "output_type": "stream",
     "name": "stderr",
     "text": [
      "/Users/ambra-stella/opt/anaconda3/envs/flyvenv/lib/python3.7/site-packages/ipykernel_launcher.py:22: UserWarning: Pandas doesn't allow columns to be created via a new attribute name - see https://pandas.pydata.org/pandas-docs/stable/indexing.html#attribute-access\n"
     ]
    },
    {
     "output_type": "stream",
     "name": "stdout",
     "text": [
      "20210624_125822\n"
     ]
    },
    {
     "output_type": "stream",
     "name": "stderr",
     "text": [
      "/Users/ambra-stella/opt/anaconda3/envs/flyvenv/lib/python3.7/site-packages/ipykernel_launcher.py:22: UserWarning: Pandas doesn't allow columns to be created via a new attribute name - see https://pandas.pydata.org/pandas-docs/stable/indexing.html#attribute-access\n"
     ]
    },
    {
     "output_type": "stream",
     "name": "stdout",
     "text": [
      "20210624_135413\n"
     ]
    },
    {
     "output_type": "stream",
     "name": "stderr",
     "text": [
      "/Users/ambra-stella/opt/anaconda3/envs/flyvenv/lib/python3.7/site-packages/ipykernel_launcher.py:22: UserWarning: Pandas doesn't allow columns to be created via a new attribute name - see https://pandas.pydata.org/pandas-docs/stable/indexing.html#attribute-access\n"
     ]
    },
    {
     "output_type": "stream",
     "name": "stdout",
     "text": [
      "20210624_150405\n"
     ]
    },
    {
     "output_type": "stream",
     "name": "stderr",
     "text": [
      "/Users/ambra-stella/opt/anaconda3/envs/flyvenv/lib/python3.7/site-packages/ipykernel_launcher.py:22: UserWarning: Pandas doesn't allow columns to be created via a new attribute name - see https://pandas.pydata.org/pandas-docs/stable/indexing.html#attribute-access\n"
     ]
    },
    {
     "output_type": "stream",
     "name": "stdout",
     "text": [
      "20210624_162046\n"
     ]
    },
    {
     "output_type": "stream",
     "name": "stderr",
     "text": [
      "/Users/ambra-stella/opt/anaconda3/envs/flyvenv/lib/python3.7/site-packages/ipykernel_launcher.py:22: UserWarning: Pandas doesn't allow columns to be created via a new attribute name - see https://pandas.pydata.org/pandas-docs/stable/indexing.html#attribute-access\n"
     ]
    },
    {
     "output_type": "stream",
     "name": "stdout",
     "text": [
      "20210625_124251\n"
     ]
    },
    {
     "output_type": "stream",
     "name": "stderr",
     "text": [
      "/Users/ambra-stella/opt/anaconda3/envs/flyvenv/lib/python3.7/site-packages/ipykernel_launcher.py:22: UserWarning: Pandas doesn't allow columns to be created via a new attribute name - see https://pandas.pydata.org/pandas-docs/stable/indexing.html#attribute-access\n"
     ]
    },
    {
     "output_type": "stream",
     "name": "stdout",
     "text": [
      "20210625_135532\n"
     ]
    },
    {
     "output_type": "stream",
     "name": "stderr",
     "text": [
      "/Users/ambra-stella/opt/anaconda3/envs/flyvenv/lib/python3.7/site-packages/ipykernel_launcher.py:22: UserWarning: Pandas doesn't allow columns to be created via a new attribute name - see https://pandas.pydata.org/pandas-docs/stable/indexing.html#attribute-access\n"
     ]
    },
    {
     "output_type": "stream",
     "name": "stdout",
     "text": [
      "20210625_154249\n"
     ]
    },
    {
     "output_type": "stream",
     "name": "stderr",
     "text": [
      "/Users/ambra-stella/opt/anaconda3/envs/flyvenv/lib/python3.7/site-packages/ipykernel_launcher.py:22: UserWarning: Pandas doesn't allow columns to be created via a new attribute name - see https://pandas.pydata.org/pandas-docs/stable/indexing.html#attribute-access\n"
     ]
    },
    {
     "output_type": "stream",
     "name": "stdout",
     "text": [
      "20210628_152418\n"
     ]
    },
    {
     "output_type": "stream",
     "name": "stderr",
     "text": [
      "/Users/ambra-stella/opt/anaconda3/envs/flyvenv/lib/python3.7/site-packages/ipykernel_launcher.py:22: UserWarning: Pandas doesn't allow columns to be created via a new attribute name - see https://pandas.pydata.org/pandas-docs/stable/indexing.html#attribute-access\n"
     ]
    },
    {
     "output_type": "stream",
     "name": "stdout",
     "text": [
      "20210628_155645\n",
      "20210629_163802\n",
      "20210630_155725\n"
     ]
    },
    {
     "output_type": "stream",
     "name": "stderr",
     "text": [
      "/Users/ambra-stella/opt/anaconda3/envs/flyvenv/lib/python3.7/site-packages/ipykernel_launcher.py:22: UserWarning: Pandas doesn't allow columns to be created via a new attribute name - see https://pandas.pydata.org/pandas-docs/stable/indexing.html#attribute-access\n",
      "/Users/ambra-stella/opt/anaconda3/envs/flyvenv/lib/python3.7/site-packages/ipykernel_launcher.py:22: UserWarning: Pandas doesn't allow columns to be created via a new attribute name - see https://pandas.pydata.org/pandas-docs/stable/indexing.html#attribute-access\n",
      "/Users/ambra-stella/opt/anaconda3/envs/flyvenv/lib/python3.7/site-packages/ipykernel_launcher.py:22: UserWarning: Pandas doesn't allow columns to be created via a new attribute name - see https://pandas.pydata.org/pandas-docs/stable/indexing.html#attribute-access\n"
     ]
    },
    {
     "output_type": "stream",
     "name": "stdout",
     "text": [
      "20210630_161039\n"
     ]
    },
    {
     "output_type": "stream",
     "name": "stderr",
     "text": [
      "/Users/ambra-stella/opt/anaconda3/envs/flyvenv/lib/python3.7/site-packages/ipykernel_launcher.py:22: UserWarning: Pandas doesn't allow columns to be created via a new attribute name - see https://pandas.pydata.org/pandas-docs/stable/indexing.html#attribute-access\n"
     ]
    },
    {
     "output_type": "stream",
     "name": "stdout",
     "text": [
      "20210701_141424\n"
     ]
    },
    {
     "output_type": "stream",
     "name": "stderr",
     "text": [
      "/Users/ambra-stella/opt/anaconda3/envs/flyvenv/lib/python3.7/site-packages/ipykernel_launcher.py:22: UserWarning: Pandas doesn't allow columns to be created via a new attribute name - see https://pandas.pydata.org/pandas-docs/stable/indexing.html#attribute-access\n"
     ]
    },
    {
     "output_type": "stream",
     "name": "stdout",
     "text": [
      "20210701_151829\n"
     ]
    },
    {
     "output_type": "stream",
     "name": "stderr",
     "text": [
      "/Users/ambra-stella/opt/anaconda3/envs/flyvenv/lib/python3.7/site-packages/ipykernel_launcher.py:22: UserWarning: Pandas doesn't allow columns to be created via a new attribute name - see https://pandas.pydata.org/pandas-docs/stable/indexing.html#attribute-access\n"
     ]
    },
    {
     "output_type": "stream",
     "name": "stdout",
     "text": [
      "20210702_144717\n"
     ]
    },
    {
     "output_type": "stream",
     "name": "stderr",
     "text": [
      "/Users/ambra-stella/opt/anaconda3/envs/flyvenv/lib/python3.7/site-packages/ipykernel_launcher.py:22: UserWarning: Pandas doesn't allow columns to be created via a new attribute name - see https://pandas.pydata.org/pandas-docs/stable/indexing.html#attribute-access\n"
     ]
    },
    {
     "output_type": "stream",
     "name": "stdout",
     "text": [
      "20210707_141441\n"
     ]
    },
    {
     "output_type": "stream",
     "name": "stderr",
     "text": [
      "/Users/ambra-stella/opt/anaconda3/envs/flyvenv/lib/python3.7/site-packages/ipykernel_launcher.py:22: UserWarning: Pandas doesn't allow columns to be created via a new attribute name - see https://pandas.pydata.org/pandas-docs/stable/indexing.html#attribute-access\n"
     ]
    },
    {
     "output_type": "stream",
     "name": "stdout",
     "text": [
      "20210707_145834\n"
     ]
    },
    {
     "output_type": "stream",
     "name": "stderr",
     "text": [
      "/Users/ambra-stella/opt/anaconda3/envs/flyvenv/lib/python3.7/site-packages/ipykernel_launcher.py:22: UserWarning: Pandas doesn't allow columns to be created via a new attribute name - see https://pandas.pydata.org/pandas-docs/stable/indexing.html#attribute-access\n"
     ]
    },
    {
     "output_type": "stream",
     "name": "stdout",
     "text": [
      "20210707_152902\n"
     ]
    },
    {
     "output_type": "stream",
     "name": "stderr",
     "text": [
      "/Users/ambra-stella/opt/anaconda3/envs/flyvenv/lib/python3.7/site-packages/ipykernel_launcher.py:22: UserWarning: Pandas doesn't allow columns to be created via a new attribute name - see https://pandas.pydata.org/pandas-docs/stable/indexing.html#attribute-access\n"
     ]
    },
    {
     "output_type": "stream",
     "name": "stdout",
     "text": [
      "20210707_160439\n"
     ]
    },
    {
     "output_type": "stream",
     "name": "stderr",
     "text": [
      "/Users/ambra-stella/opt/anaconda3/envs/flyvenv/lib/python3.7/site-packages/ipykernel_launcher.py:22: UserWarning: Pandas doesn't allow columns to be created via a new attribute name - see https://pandas.pydata.org/pandas-docs/stable/indexing.html#attribute-access\n"
     ]
    }
   ],
   "metadata": {}
  },
  {
   "cell_type": "markdown",
   "source": [
    "# saves only until distractor (for POSITIVE):"
   ],
   "metadata": {}
  },
  {
   "cell_type": "code",
   "execution_count": 40,
   "source": [
    "usecols = ['frame', 'timestamp', 'x', 'y', 'xvel', 'yvel', 't',\n",
    "       'x_px', 'y_px', 'orientation_radians_mod_pi', 'contrast',\n",
    "       'luminance', 'center_x', 'center_y', 'stage']\n",
    "\n",
    "for files in filenames:\n",
    "       try:\n",
    "              df = pd.read_csv(files, usecols  = usecols, low_memory=False)\n",
    "       except ValueError:\n",
    "              pass\n",
    "       \n",
    "       dist_points = df.loc[(df.contrast != 2) & (df.stage == 'distractor')].copy()\n",
    "       dist_point = dist_points[-1:]\n",
    "       frame = dist_points['frame'].values[0]\n",
    "       #frame = frame()\n",
    "       print('frame:', frame)\n",
    "       #print('frame type :', type(frame))\n",
    "       #print(dist_point)\n",
    "       \n",
    "       summary = df.loc[df.contrast == 2].copy()\n",
    "       print('lenght before:', len(summary))\n",
    "       summary = summary.loc[summary.frame < frame]\n",
    "       print('lenght after:',len(summary))\n",
    "       #summary['distraction_index'] = np.arange(len(summary))\n",
    "       #print(dist_points)\n",
    "       filename= os.path.basename(files)\n",
    "       filename = filename[10:-4]\n",
    "       #print(filename)\n",
    "       summary['fly_number'] = filename\n",
    "       \n",
    "       summary['walking_angle'] = np.arctan2(df.yvel, df.xvel)\n",
    "       \n",
    "       summary['speed'] = np.sqrt((summary.xvel)**2+(summary.yvel)**2) \n",
    "       summary.stopped = summary.speed <= 0.01\n",
    "       summary = summary.loc[summary.stopped != 1]\n",
    "       #print(summary.head)\n",
    "       \n",
    "       \n",
    "       \n",
    "       \n",
    "       #print (summary[:5])\n",
    "       \n",
    "       #summary.to_csv(\"/Users/ambra-stella/bachelor/analysis/wt/big_summary_positive_until_distractor.csv\", mode = 'a', header=False, index=False) #SPECIFY WHERE IT IS SAVED!!"
   ],
   "outputs": [
    {
     "output_type": "stream",
     "name": "stdout",
     "text": [
      "frame: 286320\n",
      "lenght before: 98727\n",
      "lenght after: 19264\n"
     ]
    },
    {
     "output_type": "stream",
     "name": "stderr",
     "text": [
      "/Users/ambra-stella/opt/anaconda3/envs/flyvenv/lib/python3.7/site-packages/ipykernel_launcher.py:33: UserWarning: Pandas doesn't allow columns to be created via a new attribute name - see https://pandas.pydata.org/pandas-docs/stable/indexing.html#attribute-access\n"
     ]
    },
    {
     "output_type": "stream",
     "name": "stdout",
     "text": [
      "frame: 286320\n",
      "lenght before: 98727\n",
      "lenght after: 19264\n"
     ]
    },
    {
     "output_type": "stream",
     "name": "stderr",
     "text": [
      "/Users/ambra-stella/opt/anaconda3/envs/flyvenv/lib/python3.7/site-packages/ipykernel_launcher.py:33: UserWarning: Pandas doesn't allow columns to be created via a new attribute name - see https://pandas.pydata.org/pandas-docs/stable/indexing.html#attribute-access\n"
     ]
    },
    {
     "output_type": "stream",
     "name": "stdout",
     "text": [
      "frame: 97182\n",
      "lenght before: 84530\n",
      "lenght after: 1650\n"
     ]
    },
    {
     "output_type": "stream",
     "name": "stderr",
     "text": [
      "/Users/ambra-stella/opt/anaconda3/envs/flyvenv/lib/python3.7/site-packages/ipykernel_launcher.py:33: UserWarning: Pandas doesn't allow columns to be created via a new attribute name - see https://pandas.pydata.org/pandas-docs/stable/indexing.html#attribute-access\n"
     ]
    },
    {
     "output_type": "stream",
     "name": "stdout",
     "text": [
      "frame: 64236\n",
      "lenght before: 102447\n",
      "lenght after: 15148\n"
     ]
    },
    {
     "output_type": "stream",
     "name": "stderr",
     "text": [
      "/Users/ambra-stella/opt/anaconda3/envs/flyvenv/lib/python3.7/site-packages/ipykernel_launcher.py:33: UserWarning: Pandas doesn't allow columns to be created via a new attribute name - see https://pandas.pydata.org/pandas-docs/stable/indexing.html#attribute-access\n"
     ]
    },
    {
     "output_type": "stream",
     "name": "stdout",
     "text": [
      "frame: 329299\n",
      "lenght before: 102469\n",
      "lenght after: 10656\n"
     ]
    },
    {
     "output_type": "stream",
     "name": "stderr",
     "text": [
      "/Users/ambra-stella/opt/anaconda3/envs/flyvenv/lib/python3.7/site-packages/ipykernel_launcher.py:33: UserWarning: Pandas doesn't allow columns to be created via a new attribute name - see https://pandas.pydata.org/pandas-docs/stable/indexing.html#attribute-access\n"
     ]
    },
    {
     "output_type": "stream",
     "name": "stdout",
     "text": [
      "frame: 45828\n",
      "lenght before: 98729\n",
      "lenght after: 4644\n"
     ]
    },
    {
     "output_type": "stream",
     "name": "stderr",
     "text": [
      "/Users/ambra-stella/opt/anaconda3/envs/flyvenv/lib/python3.7/site-packages/ipykernel_launcher.py:33: UserWarning: Pandas doesn't allow columns to be created via a new attribute name - see https://pandas.pydata.org/pandas-docs/stable/indexing.html#attribute-access\n"
     ]
    },
    {
     "output_type": "stream",
     "name": "stdout",
     "text": [
      "frame: 46565\n",
      "lenght before: 102458\n",
      "lenght after: 2634\n"
     ]
    },
    {
     "output_type": "stream",
     "name": "stderr",
     "text": [
      "/Users/ambra-stella/opt/anaconda3/envs/flyvenv/lib/python3.7/site-packages/ipykernel_launcher.py:33: UserWarning: Pandas doesn't allow columns to be created via a new attribute name - see https://pandas.pydata.org/pandas-docs/stable/indexing.html#attribute-access\n"
     ]
    },
    {
     "output_type": "stream",
     "name": "stdout",
     "text": [
      "frame: 308054\n",
      "lenght before: 89582\n",
      "lenght after: 13508\n"
     ]
    },
    {
     "output_type": "stream",
     "name": "stderr",
     "text": [
      "/Users/ambra-stella/opt/anaconda3/envs/flyvenv/lib/python3.7/site-packages/ipykernel_launcher.py:33: UserWarning: Pandas doesn't allow columns to be created via a new attribute name - see https://pandas.pydata.org/pandas-docs/stable/indexing.html#attribute-access\n"
     ]
    },
    {
     "output_type": "error",
     "ename": "IndexError",
     "evalue": "index 0 is out of bounds for axis 0 with size 0",
     "traceback": [
      "\u001b[0;31m---------------------------------------------------------------------------\u001b[0m",
      "\u001b[0;31mIndexError\u001b[0m                                Traceback (most recent call last)",
      "\u001b[0;32m<ipython-input-40-a9eb3ee85dc9>\u001b[0m in \u001b[0;36m<module>\u001b[0;34m\u001b[0m\n\u001b[1;32m     11\u001b[0m        \u001b[0mdist_points\u001b[0m \u001b[0;34m=\u001b[0m \u001b[0mdf\u001b[0m\u001b[0;34m.\u001b[0m\u001b[0mloc\u001b[0m\u001b[0;34m[\u001b[0m\u001b[0;34m(\u001b[0m\u001b[0mdf\u001b[0m\u001b[0;34m.\u001b[0m\u001b[0mcontrast\u001b[0m \u001b[0;34m!=\u001b[0m \u001b[0;36m2\u001b[0m\u001b[0;34m)\u001b[0m \u001b[0;34m&\u001b[0m \u001b[0;34m(\u001b[0m\u001b[0mdf\u001b[0m\u001b[0;34m.\u001b[0m\u001b[0mstage\u001b[0m \u001b[0;34m==\u001b[0m \u001b[0;34m'distractor'\u001b[0m\u001b[0;34m)\u001b[0m\u001b[0;34m]\u001b[0m\u001b[0;34m.\u001b[0m\u001b[0mcopy\u001b[0m\u001b[0;34m(\u001b[0m\u001b[0;34m)\u001b[0m\u001b[0;34m\u001b[0m\u001b[0;34m\u001b[0m\u001b[0m\n\u001b[1;32m     12\u001b[0m        \u001b[0mdist_point\u001b[0m \u001b[0;34m=\u001b[0m \u001b[0mdist_points\u001b[0m\u001b[0;34m[\u001b[0m\u001b[0;34m-\u001b[0m\u001b[0;36m1\u001b[0m\u001b[0;34m:\u001b[0m\u001b[0;34m]\u001b[0m\u001b[0;34m\u001b[0m\u001b[0;34m\u001b[0m\u001b[0m\n\u001b[0;32m---> 13\u001b[0;31m        \u001b[0mframe\u001b[0m \u001b[0;34m=\u001b[0m \u001b[0mdist_points\u001b[0m\u001b[0;34m[\u001b[0m\u001b[0;34m'frame'\u001b[0m\u001b[0;34m]\u001b[0m\u001b[0;34m.\u001b[0m\u001b[0mvalues\u001b[0m\u001b[0;34m[\u001b[0m\u001b[0;36m0\u001b[0m\u001b[0;34m]\u001b[0m\u001b[0;34m\u001b[0m\u001b[0;34m\u001b[0m\u001b[0m\n\u001b[0m\u001b[1;32m     14\u001b[0m        \u001b[0;31m#frame = frame()\u001b[0m\u001b[0;34m\u001b[0m\u001b[0;34m\u001b[0m\u001b[0;34m\u001b[0m\u001b[0m\n\u001b[1;32m     15\u001b[0m        \u001b[0mprint\u001b[0m\u001b[0;34m(\u001b[0m\u001b[0;34m'frame:'\u001b[0m\u001b[0;34m,\u001b[0m \u001b[0mframe\u001b[0m\u001b[0;34m)\u001b[0m\u001b[0;34m\u001b[0m\u001b[0;34m\u001b[0m\u001b[0m\n",
      "\u001b[0;31mIndexError\u001b[0m: index 0 is out of bounds for axis 0 with size 0"
     ]
    }
   ],
   "metadata": {}
  },
  {
   "cell_type": "code",
   "execution_count": null,
   "source": [],
   "outputs": [],
   "metadata": {}
  }
 ],
 "metadata": {
  "interpreter": {
   "hash": "35123d64644114ffcbc8c704b34b7b300f937d79f11c925afea674ff16c3be34"
  },
  "kernelspec": {
   "name": "python3",
   "display_name": "Python 3.7.10 64-bit ('flyvenv': conda)"
  },
  "language_info": {
   "codemirror_mode": {
    "name": "ipython",
    "version": 3
   },
   "file_extension": ".py",
   "mimetype": "text/x-python",
   "name": "python",
   "nbconvert_exporter": "python",
   "pygments_lexer": "ipython3",
   "version": "3.7.10"
  },
  "orig_nbformat": 4
 },
 "nbformat": 4,
 "nbformat_minor": 2
}