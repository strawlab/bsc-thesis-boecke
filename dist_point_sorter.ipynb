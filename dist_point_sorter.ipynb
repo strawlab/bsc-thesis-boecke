{
 "cells": [
  {
   "cell_type": "code",
   "execution_count": 1,
   "source": [
    "import pandas as pd\n",
    "import numpy as np\n",
    "import matplotlib.pyplot as plt\n",
    "from flydance.io.smart_loader import FlyData\n",
    "from flydance.vr.neuser import NeuserParams\n",
    "from flydance.vr.neuser import FollowBarWatch\n",
    "import sys\n",
    "import os\n",
    "sys.path.append(\"/Users/ambra-stella/flydance/experiments\")"
   ],
   "outputs": [],
   "metadata": {}
  },
  {
   "cell_type": "markdown",
   "source": [
    "# Make a list with all the filenames in a folder: "
   ],
   "metadata": {}
  },
  {
   "cell_type": "code",
   "execution_count": 15,
   "source": [
    "path = '/Users/ambra-stella/bachelor/analysis/TNTe/raw/positive'   # SPECIFY FOLDER HERE\n",
    "\n",
    "folder = os.fsencode(path)\n",
    "\n",
    "filenames = []\n",
    "\n",
    "for file in os.listdir(folder):\n",
    "    filename = os.fsdecode(file)\n",
    "    if filename.endswith( ('.csv') ): \n",
    "        filenames.append(os.path.join(path, filename))\n",
    "\n",
    "filenames.sort()"
   ],
   "outputs": [],
   "metadata": {}
  },
  {
   "cell_type": "markdown",
   "source": [
    "# Create empty csv file with header"
   ],
   "metadata": {}
  },
  {
   "cell_type": "code",
   "execution_count": 16,
   "source": [
    "raw_empty_file = pd.DataFrame(columns=['frame', 'timestamp', 'x', 'y', 'z', 'xvel', 'yvel', 'zvel', 't',\n",
    "       'x_px', 'y_px', 'led_1', 'orientation_radians_mod_pi', 'contrast',\n",
    "       'luminance', 'center_x', 'center_y', 'stage', 'direction', 'ON',\n",
    "       'direction_change', 'area_change', 'area', 'stopped', 'ntimes','distraction_index', 'fly_number'])\n",
    "#raw_empty_file.to_csv(\"/Users/ambra-stella/bachelor/analysis/TNTin/distraction_points.csv\", header=True, index=False)  #SPECIFY WHERE THIS FILE WILL BE SAVED"
   ],
   "outputs": [],
   "metadata": {}
  },
  {
   "cell_type": "markdown",
   "source": [
    "# Do something with each of those files and add them to csv file:"
   ],
   "metadata": {}
  },
  {
   "cell_type": "code",
   "execution_count": 18,
   "source": [
    "usecols = ['frame', 'timestamp', 'x', 'y', 'z', 'xvel', 'yvel', 'zvel', 't',\n",
    "       'x_px', 'y_px', 'led_1', 'orientation_radians_mod_pi', 'contrast',\n",
    "       'luminance', 'center_x', 'center_y', 'stage', 'direction', 'ON',\n",
    "       'direction_change', 'area_change', 'area', 'stopped', 'ntimes']\n",
    "\n",
    "for files in filenames:\n",
    "       try:\n",
    "              df = pd.read_csv(files, usecols  = usecols, low_memory=False)\n",
    "       except ValueError:\n",
    "              pass\n",
    "    \n",
    "       dist_points = df.loc[(df.ntimes == 3.0) & (df.stage == 'distractor')].copy()\n",
    "       dist_points['distraction_index'] = np.arange(len(dist_points))\n",
    "       #print(dist_points)\n",
    "       filename= os.path.basename(files)\n",
    "       filename = filename[10:-4]\n",
    "       dist_points['fly_number'] = filename\n",
    "       #dist_points.to_csv(\"/Users/ambra-stella/bachelor/analysis/TNTe/distraction_points.csv\", mode = 'a', header=False, index=False) #SPECIFY WHERE IT IS SAVED!!\n",
    "       print(dist_points)"
   ],
   "outputs": [
    {
     "output_type": "stream",
     "name": "stdout",
     "text": [
      "        frame     timestamp         x         y    z      xvel      yvel  \\\n",
      "12273  182615  1.624373e+09  0.001322 -0.075427  0.0  0.020535 -0.013701   \n",
      "\n",
      "       zvel           t   x_px  ...       stage  direction   ON  \\\n",
      "12273   0.0  219.965838  646.8  ...  distractor        1.0  1.0   \n",
      "\n",
      "       direction_change  area_change    area  stopped ntimes  \\\n",
      "12273             False        False  center    False    3.0   \n",
      "\n",
      "       distraction_index       fly_number  \n",
      "12273                  0  20210622_163301  \n",
      "\n",
      "[1 rows x 27 columns]\n",
      "        frame     timestamp         x         y    z      xvel      yvel  \\\n",
      "28129  332549  1.624455e+09  0.000884  0.049964  0.0  0.024003  0.008669   \n",
      "34929  335949  1.624455e+09  0.000825 -0.035927  0.0  0.022316  0.004937   \n",
      "\n",
      "       zvel           t   x_px  ...       stage  direction   ON  \\\n",
      "28129   0.0  483.931480  644.5  ...  distractor        1.0  1.0   \n",
      "34929   0.0  597.264578  644.2  ...  distractor        1.0  1.0   \n",
      "\n",
      "       direction_change  area_change    area  stopped ntimes  \\\n",
      "28129             False        False  center    False    3.0   \n",
      "34929             False        False  center    False    3.0   \n",
      "\n",
      "       distraction_index       fly_number  \n",
      "28129                  0  20210623_151657  \n",
      "34929                  1  20210623_151657  \n",
      "\n",
      "[2 rows x 27 columns]\n",
      "       frame     timestamp         x         y    z     xvel     yvel  zvel  \\\n",
      "9236  261988  1.624538e+09 -0.001325 -0.002323  0.0 -0.03665  0.01221   0.0   \n",
      "\n",
      "               t   x_px  ...       stage  direction   ON  direction_change  \\\n",
      "9236  168.999527  633.2  ...  distractor        2.0  1.0             False   \n",
      "\n",
      "      area_change    area  stopped ntimes  distraction_index       fly_number  \n",
      "9236        False  center    False    3.0                  0  20210624_142719  \n",
      "\n",
      "[1 rows x 27 columns]\n",
      "       frame     timestamp         x         y    z      xvel      yvel  zvel  \\\n",
      "8099  586732  1.624549e+09 -0.002509 -0.059124  0.0 -0.047833  0.000489   0.0   \n",
      "\n",
      "               t   x_px  ...       stage  direction   ON  direction_change  \\\n",
      "8099  150.066198  627.2  ...  distractor        2.0  1.0             False   \n",
      "\n",
      "      area_change    area  stopped ntimes  distraction_index       fly_number  \n",
      "8099        False  center    False    3.0                  0  20210624_172803  \n",
      "\n",
      "[1 rows x 27 columns]\n",
      "        frame     timestamp         x        y    z      xvel      yvel  zvel  \\\n",
      "17764  288871  1.624626e+09 -0.002110 -0.04434  0.0 -0.041400  0.001988   0.0   \n",
      "23556  291767  1.624626e+09 -0.001698  0.06023  0.0 -0.030411 -0.007301   0.0   \n",
      "\n",
      "                t   x_px  ...       stage  direction   ON  direction_change  \\\n",
      "17764  311.132371  629.2  ...  distractor        2.0  1.0             False   \n",
      "23556  407.665255  631.3  ...  distractor        2.0  1.0             False   \n",
      "\n",
      "       area_change    area  stopped ntimes  distraction_index       fly_number  \n",
      "17764        False  center    False    3.0                  0  20210625_144628  \n",
      "23556        False  center    False    3.0                  1  20210625_144628  \n",
      "\n",
      "[2 rows x 27 columns]\n",
      "        frame     timestamp         x         y    z      xvel      yvel  \\\n",
      "12758  311665  1.624626e+09  0.002492  0.019026  0.0  0.036933  0.017297   \n",
      "26406  318485  1.624626e+09  0.001137 -0.032237  0.0  0.025639 -0.002049   \n",
      "\n",
      "       zvel           t   x_px  ...       stage  direction   ON  \\\n",
      "12758   0.0  227.699184  652.8  ...  distractor        1.0  1.0   \n",
      "26406   0.0  455.031727  645.8  ...  distractor        1.0  1.0   \n",
      "\n",
      "       direction_change  area_change    area  stopped ntimes  \\\n",
      "12758             False        False  center    False    3.0   \n",
      "26406             False        False  center    False    3.0   \n",
      "\n",
      "       distraction_index       fly_number  \n",
      "12758                  0  20210625_150032  \n",
      "26406                  1  20210625_150032  \n",
      "\n",
      "[2 rows x 27 columns]\n",
      "        frame     timestamp         x         y    z      xvel      yvel  \\\n",
      "64230  355805  1.624628e+09 -0.001278 -0.059124  0.0 -0.023444 -0.002626   \n",
      "\n",
      "       zvel           t   x_px  ...       stage  direction   ON  \\\n",
      "64230   0.0  1085.12943  633.5  ...  distractor        2.0  1.0   \n",
      "\n",
      "       direction_change  area_change    area  stopped ntimes  \\\n",
      "64230             False        False  center    False    3.0   \n",
      "\n",
      "       distraction_index       fly_number  \n",
      "64230                  0  20210625_151046  \n",
      "\n",
      "[1 rows x 27 columns]\n",
      "        frame     timestamp         x         y    z      xvel      yvel  \\\n",
      "21094  179981  1.624882e+09  0.001709  0.020182  0.0  0.028230  0.009905   \n",
      "38802  188835  1.624882e+09  0.001501 -0.078029  0.0  0.040971 -0.007078   \n",
      "53298  196083  1.624882e+09 -0.002465 -0.007803  0.0 -0.042573  0.008490   \n",
      "\n",
      "       zvel           t   x_px  ...       stage  direction   ON  \\\n",
      "21094   0.0  366.632070  648.8  ...  distractor        1.0  1.0   \n",
      "38802   0.0  661.764516  647.7  ...  distractor        1.0  1.0   \n",
      "53298   0.0  903.363590  627.4  ...  distractor        2.0  1.0   \n",
      "\n",
      "       direction_change  area_change    area  stopped ntimes  \\\n",
      "21094             False        False  center    False    3.0   \n",
      "38802             False        False  center    False    3.0   \n",
      "53298             False        False  center    False    3.0   \n",
      "\n",
      "       distraction_index       fly_number  \n",
      "21094                  0  20210628_135940  \n",
      "38802                  1  20210628_135940  \n",
      "53298                  2  20210628_135940  \n",
      "\n",
      "[3 rows x 27 columns]\n",
      "        frame     timestamp         x         y    z      xvel      yvel  \\\n",
      "29696  217655  1.625048e+09  0.001018 -0.019764  0.0  0.026825 -0.006482   \n",
      "\n",
      "       zvel           t   x_px  ...       stage  direction   ON  \\\n",
      "29696   0.0  605.264531  645.2  ...  distractor        1.0  1.0   \n",
      "\n",
      "       direction_change  area_change    area  stopped ntimes  \\\n",
      "29696             False        False  center    False    3.0   \n",
      "\n",
      "       distraction_index       fly_number  \n",
      "29696                  0  20210630_115801  \n",
      "\n",
      "[1 rows x 27 columns]\n",
      "        frame     timestamp         x         y    z      xvel      yvel  \\\n",
      "51287  287973  1.625050e+09  0.001968  0.008871  0.0  0.029555 -0.009756   \n",
      "\n",
      "       zvel           t   x_px  ...       stage  direction   ON  \\\n",
      "51287   0.0  869.963252  650.1  ...  distractor        1.0  1.0   \n",
      "\n",
      "       direction_change  area_change    area  stopped ntimes  \\\n",
      "51287             False        False  center    False    3.0   \n",
      "\n",
      "       distraction_index       fly_number  \n",
      "51287                  0  20210630_123240  \n",
      "\n",
      "[1 rows x 27 columns]\n",
      "       frame     timestamp         x         y    z      xvel      yvel  zvel  \\\n",
      "36309  29065  1.625152e+09  0.001987  0.035582  0.0  0.028995  0.003575   0.0   \n",
      "\n",
      "                t   x_px  ...       stage  direction   ON  direction_change  \\\n",
      "36309  620.197925  650.2  ...  distractor        1.0  1.0             False   \n",
      "\n",
      "       area_change    area  stopped ntimes  distraction_index       fly_number  \n",
      "36309        False  center    False    3.0                  0  20210701_165947  \n",
      "\n",
      "[1 rows x 27 columns]\n",
      "       frame     timestamp         x        y    z      xvel      yvel  zvel  \\\n",
      "30899  28280  1.625222e+09  0.002256  0.02771  0.0  0.043801  0.005016   0.0   \n",
      "\n",
      "                t   x_px  ...       stage  direction   ON  direction_change  \\\n",
      "30899  530.064805  651.6  ...  distractor        1.0  1.0             False   \n",
      "\n",
      "       area_change    area  stopped ntimes  distraction_index       fly_number  \n",
      "30899        False  center    False    3.0                  0  20210702_122539  \n",
      "\n",
      "[1 rows x 27 columns]\n"
     ]
    }
   ],
   "metadata": {}
  },
  {
   "cell_type": "code",
   "execution_count": 11,
   "source": [],
   "outputs": [
    {
     "output_type": "error",
     "ename": "NameError",
     "evalue": "name 'dist_points' is not defined",
     "traceback": [
      "\u001b[0;31m---------------------------------------------------------------------------\u001b[0m",
      "\u001b[0;31mNameError\u001b[0m                                 Traceback (most recent call last)",
      "\u001b[0;32m<ipython-input-11-03b48028317d>\u001b[0m in \u001b[0;36m<module>\u001b[0;34m\u001b[0m\n\u001b[0;32m----> 1\u001b[0;31m \u001b[0mprint\u001b[0m\u001b[0;34m(\u001b[0m\u001b[0mdist_points\u001b[0m\u001b[0;34m)\u001b[0m\u001b[0;34m\u001b[0m\u001b[0;34m\u001b[0m\u001b[0m\n\u001b[0m",
      "\u001b[0;31mNameError\u001b[0m: name 'dist_points' is not defined"
     ]
    }
   ],
   "metadata": {}
  },
  {
   "cell_type": "markdown",
   "source": [],
   "metadata": {}
  },
  {
   "cell_type": "markdown",
   "source": [],
   "metadata": {}
  },
  {
   "cell_type": "markdown",
   "source": [],
   "metadata": {}
  },
  {
   "cell_type": "markdown",
   "source": [],
   "metadata": {}
  },
  {
   "cell_type": "markdown",
   "source": [],
   "metadata": {}
  },
  {
   "cell_type": "markdown",
   "source": [],
   "metadata": {}
  },
  {
   "cell_type": "markdown",
   "source": [],
   "metadata": {}
  },
  {
   "cell_type": "markdown",
   "source": [],
   "metadata": {}
  },
  {
   "cell_type": "markdown",
   "source": [
    "# For single files: before running: MAKE SURE SAVING PLACE IS SPECIFIED!"
   ],
   "metadata": {}
  },
  {
   "cell_type": "code",
   "execution_count": 1,
   "source": [
    "\n",
    "usecols = ['frame', 'timestamp', 'x', 'y', 'z', 'xvel', 'yvel', 'zvel', 't',\n",
    "       'x_px', 'y_px', 'led_1', 'orientation_radians_mod_pi', 'contrast',\n",
    "       'luminance', 'center_x', 'center_y', 'stage', 'direction', 'ON',\n",
    "       'direction_change', 'area_change', 'area', 'stopped', 'ntimes']\n",
    "\n",
    "fname = \"/Users/ambra-stella/bachelor/DATA/processed/smart_load20210615_160518.csv\" # WHAT FILE SHOULD BE ADDED?\n",
    "\n",
    "try:\n",
    "    df = pd.read_csv(fname, usecols  = usecols, low_memory=False)\n",
    "except ValueError:\n",
    "    pass\n",
    "\n",
    "dist_points = df.loc[(df.ntimes == 3.0) & (df.stage == 'distractor')].copy()\n",
    "dist_points['distraction_index'] = np.arange(len(dist_points))\n",
    "filename= os.path.basename(fname)\n",
    "filename = filename[10:-4]\n",
    "dist_points['fly_number'] = filename\n"
   ],
   "outputs": [
    {
     "output_type": "error",
     "ename": "NameError",
     "evalue": "name 'pd' is not defined",
     "traceback": [
      "\u001b[0;31m---------------------------------------------------------------------------\u001b[0m",
      "\u001b[0;31mNameError\u001b[0m                                 Traceback (most recent call last)",
      "\u001b[0;32m<ipython-input-1-84dde9080de4>\u001b[0m in \u001b[0;36m<module>\u001b[0;34m\u001b[0m\n\u001b[1;32m      6\u001b[0m \u001b[0mfname\u001b[0m \u001b[0;34m=\u001b[0m \u001b[0;34m\"/Users/ambra-stella/bachelor/DATA/processed/smart_load20210615_160518.csv\"\u001b[0m\u001b[0;34m\u001b[0m\u001b[0;34m\u001b[0m\u001b[0m\n\u001b[1;32m      7\u001b[0m \u001b[0;32mtry\u001b[0m\u001b[0;34m:\u001b[0m\u001b[0;34m\u001b[0m\u001b[0;34m\u001b[0m\u001b[0m\n\u001b[0;32m----> 8\u001b[0;31m     \u001b[0mdf\u001b[0m \u001b[0;34m=\u001b[0m \u001b[0mpd\u001b[0m\u001b[0;34m.\u001b[0m\u001b[0mread_csv\u001b[0m\u001b[0;34m(\u001b[0m\u001b[0mfname\u001b[0m\u001b[0;34m,\u001b[0m \u001b[0musecols\u001b[0m  \u001b[0;34m=\u001b[0m \u001b[0musecols\u001b[0m\u001b[0;34m,\u001b[0m \u001b[0mlow_memory\u001b[0m\u001b[0;34m=\u001b[0m\u001b[0;32mFalse\u001b[0m\u001b[0;34m)\u001b[0m\u001b[0;34m\u001b[0m\u001b[0;34m\u001b[0m\u001b[0m\n\u001b[0m\u001b[1;32m      9\u001b[0m \u001b[0;32mexcept\u001b[0m \u001b[0mValueError\u001b[0m\u001b[0;34m:\u001b[0m\u001b[0;34m\u001b[0m\u001b[0;34m\u001b[0m\u001b[0m\n\u001b[1;32m     10\u001b[0m     \u001b[0;32mpass\u001b[0m\u001b[0;34m\u001b[0m\u001b[0;34m\u001b[0m\u001b[0m\n",
      "\u001b[0;31mNameError\u001b[0m: name 'pd' is not defined"
     ]
    }
   ],
   "metadata": {}
  },
  {
   "cell_type": "markdown",
   "source": [
    "# save here:"
   ],
   "metadata": {}
  },
  {
   "cell_type": "code",
   "execution_count": null,
   "source": [
    "#dist_points.to_csv(\"/Users/ambra-stella/bachelor/analysis/wt/distraction_points.csv\", mode = 'a', header=False, index=False, low_memory=False)"
   ],
   "outputs": [],
   "metadata": {}
  },
  {
   "cell_type": "code",
   "execution_count": null,
   "source": [],
   "outputs": [],
   "metadata": {}
  },
  {
   "cell_type": "code",
   "execution_count": null,
   "source": [
    "#take these points as reference to the files they are in, and see if they go towards or away from the bar. append that as (up, down, none)"
   ],
   "outputs": [],
   "metadata": {}
  },
  {
   "cell_type": "code",
   "execution_count": null,
   "source": [
    "#take those and see if they continued their walk or went somewhere else. append that as (yes, no, none)"
   ],
   "outputs": [],
   "metadata": {}
  }
 ],
 "metadata": {
  "interpreter": {
   "hash": "35123d64644114ffcbc8c704b34b7b300f937d79f11c925afea674ff16c3be34"
  },
  "kernelspec": {
   "display_name": "Python 3.7.10 64-bit ('flyvenv': conda)",
   "name": "python3"
  },
  "language_info": {
   "codemirror_mode": {
    "name": "ipython",
    "version": 3
   },
   "file_extension": ".py",
   "mimetype": "text/x-python",
   "name": "python",
   "nbconvert_exporter": "python",
   "pygments_lexer": "ipython3",
   "version": "3.7.10"
  },
  "orig_nbformat": 4
 },
 "nbformat": 4,
 "nbformat_minor": 2
}